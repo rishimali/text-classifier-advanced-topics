{
 "cells": [
  {
   "cell_type": "code",
   "execution_count": 1,
   "metadata": {},
   "outputs": [],
   "source": [
    "import pandas as pd\n",
    "import matplotlib.pyplot as plt\n",
    "from sklearn.model_selection import train_test_split\n",
    "from sklearn.linear_model import LogisticRegression\n",
    "from sklearn.feature_extraction.text import CountVectorizer,TfidfVectorizer\n",
    "from sklearn.naive_bayes import MultinomialNB\n",
    "from sklearn.ensemble import RandomForestClassifier\n",
    "from sklearn.svm import LinearSVC\n",
    "from sklearn.model_selection import cross_val_score\n",
    "import seaborn as sns"
   ]
  },
  {
   "cell_type": "code",
   "execution_count": 2,
   "metadata": {},
   "outputs": [
    {
     "data": {
      "text/html": [
       "<div>\n",
       "<style scoped>\n",
       "    .dataframe tbody tr th:only-of-type {\n",
       "        vertical-align: middle;\n",
       "    }\n",
       "\n",
       "    .dataframe tbody tr th {\n",
       "        vertical-align: top;\n",
       "    }\n",
       "\n",
       "    .dataframe thead th {\n",
       "        text-align: right;\n",
       "    }\n",
       "</style>\n",
       "<table border=\"1\" class=\"dataframe\">\n",
       "  <thead>\n",
       "    <tr style=\"text-align: right;\">\n",
       "      <th></th>\n",
       "      <th>first_commit_message</th>\n",
       "      <th>title</th>\n",
       "      <th>first_comment</th>\n",
       "      <th>files_changed</th>\n",
       "      <th>file_extension</th>\n",
       "      <th>labels</th>\n",
       "      <th>lines_added</th>\n",
       "      <th>lines_removed</th>\n",
       "      <th>everything</th>\n",
       "      <th>all_excluding_first_commit</th>\n",
       "      <th>all_excluding_title</th>\n",
       "      <th>all_excluding_first_comment</th>\n",
       "      <th>all_excluding_labels</th>\n",
       "      <th>all_without_file_extensions</th>\n",
       "      <th>all_string_data</th>\n",
       "      <th>title_commit_comment</th>\n",
       "      <th>final_tag</th>\n",
       "    </tr>\n",
       "  </thead>\n",
       "  <tbody>\n",
       "    <tr>\n",
       "      <th>0</th>\n",
       "      <td>Update nice-urls.markdown</td>\n",
       "      <td>Update nice-urls.markdown</td>\n",
       "      <td>added url rewrite settings for IIS</td>\n",
       "      <td>1</td>\n",
       "      <td>markdown</td>\n",
       "      <td>NaN</td>\n",
       "      <td>34</td>\n",
       "      <td>0</td>\n",
       "      <td>Update nice-urls.markdown Update nice-urls.mar...</td>\n",
       "      <td>Update nice-urls.markdown added url rewrite se...</td>\n",
       "      <td>Update nice-urls.markdown added url rewrite se...</td>\n",
       "      <td>Update nice-urls.markdown Update nice-urls.mar...</td>\n",
       "      <td>Update nice-urls.markdown Update nice-urls.mar...</td>\n",
       "      <td>Update nice-urls.markdown Update nice-urls.mar...</td>\n",
       "      <td>Update nice-urls.markdown Update nice-urls.mar...</td>\n",
       "      <td>Update nice-urls.markdown Update nice-urls.mar...</td>\n",
       "      <td>documentation</td>\n",
       "    </tr>\n",
       "    <tr>\n",
       "      <th>1</th>\n",
       "      <td>Add error logging to nagios wrapper</td>\n",
       "      <td>Add error logging to nagios wrapper</td>\n",
       "      <td>Logs a debug message showing the output of eac...</td>\n",
       "      <td>1</td>\n",
       "      <td>py</td>\n",
       "      <td>NaN</td>\n",
       "      <td>11</td>\n",
       "      <td>1</td>\n",
       "      <td>Add error logging to nagios wrapper Add error ...</td>\n",
       "      <td>Add error logging to nagios wrapper Logs a deb...</td>\n",
       "      <td>Add error logging to nagios wrapper Logs a deb...</td>\n",
       "      <td>Add error logging to nagios wrapper Add error ...</td>\n",
       "      <td>Add error logging to nagios wrapper Add error ...</td>\n",
       "      <td>Add error logging to nagios wrapper Add error ...</td>\n",
       "      <td>Add error logging to nagios wrapper Add error ...</td>\n",
       "      <td>Add error logging to nagios wrapper Add error ...</td>\n",
       "      <td>feature</td>\n",
       "    </tr>\n",
       "    <tr>\n",
       "      <th>2</th>\n",
       "      <td>Don't markdown project owner's name in tooltip</td>\n",
       "      <td>Don't markdown project owner's name in tooltip</td>\n",
       "      <td>This change passes current unit tests. I added...</td>\n",
       "      <td>3</td>\n",
       "      <td>php</td>\n",
       "      <td>NaN</td>\n",
       "      <td>10</td>\n",
       "      <td>5</td>\n",
       "      <td>Don't markdown project owner's name in tooltip...</td>\n",
       "      <td>Don't markdown project owner's name in tooltip...</td>\n",
       "      <td>Don't markdown project owner's name in tooltip...</td>\n",
       "      <td>Don't markdown project owner's name in tooltip...</td>\n",
       "      <td>Don't markdown project owner's name in tooltip...</td>\n",
       "      <td>Don't markdown project owner's name in tooltip...</td>\n",
       "      <td>Don't markdown project owner's name in tooltip...</td>\n",
       "      <td>Don't markdown project owner's name in tooltip...</td>\n",
       "      <td>feature</td>\n",
       "    </tr>\n",
       "    <tr>\n",
       "      <th>3</th>\n",
       "      <td>Added example configuration file</td>\n",
       "      <td>Added example configuration file</td>\n",
       "      <td>self-explaining config file</td>\n",
       "      <td>1</td>\n",
       "      <td>conf</td>\n",
       "      <td>NaN</td>\n",
       "      <td>111</td>\n",
       "      <td>0</td>\n",
       "      <td>Added example configuration file Added example...</td>\n",
       "      <td>Added example configuration file self-explaini...</td>\n",
       "      <td>Added example configuration file self-explaini...</td>\n",
       "      <td>Added example configuration file Added example...</td>\n",
       "      <td>Added example configuration file Added example...</td>\n",
       "      <td>Added example configuration file Added example...</td>\n",
       "      <td>Added example configuration file Added example...</td>\n",
       "      <td>Added example configuration file Added example...</td>\n",
       "      <td>documentation</td>\n",
       "    </tr>\n",
       "    <tr>\n",
       "      <th>4</th>\n",
       "      <td>fix clang device compile</td>\n",
       "      <td>fix clang device compile</td>\n",
       "      <td>The compiler will abort with an error if the p...</td>\n",
       "      <td>1</td>\n",
       "      <td>cmake</td>\n",
       "      <td>CUDA bug</td>\n",
       "      <td>2</td>\n",
       "      <td>0</td>\n",
       "      <td>fix clang device compile fix clang device comp...</td>\n",
       "      <td>fix clang device compile  The compiler will ab...</td>\n",
       "      <td>fix clang device compile The compiler will abo...</td>\n",
       "      <td>fix clang device compile fix clang device comp...</td>\n",
       "      <td>fix clang device compile fix clang device comp...</td>\n",
       "      <td>fix clang device compile fix clang device comp...</td>\n",
       "      <td>fix clang device compile fix clang device comp...</td>\n",
       "      <td>fix clang device compile fix clang device comp...</td>\n",
       "      <td>bug</td>\n",
       "    </tr>\n",
       "  </tbody>\n",
       "</table>\n",
       "</div>"
      ],
      "text/plain": [
       "                             first_commit_message  \\\n",
       "0                       Update nice-urls.markdown   \n",
       "1             Add error logging to nagios wrapper   \n",
       "2  Don't markdown project owner's name in tooltip   \n",
       "3                Added example configuration file   \n",
       "4                        fix clang device compile   \n",
       "\n",
       "                                            title  \\\n",
       "0                       Update nice-urls.markdown   \n",
       "1             Add error logging to nagios wrapper   \n",
       "2  Don't markdown project owner's name in tooltip   \n",
       "3                Added example configuration file   \n",
       "4                       fix clang device compile    \n",
       "\n",
       "                                       first_comment  files_changed  \\\n",
       "0                 added url rewrite settings for IIS              1   \n",
       "1  Logs a debug message showing the output of eac...              1   \n",
       "2  This change passes current unit tests. I added...              3   \n",
       "3                        self-explaining config file              1   \n",
       "4  The compiler will abort with an error if the p...              1   \n",
       "\n",
       "  file_extension    labels  lines_added  lines_removed  \\\n",
       "0       markdown       NaN           34              0   \n",
       "1             py       NaN           11              1   \n",
       "2            php       NaN           10              5   \n",
       "3           conf       NaN          111              0   \n",
       "4          cmake  CUDA bug            2              0   \n",
       "\n",
       "                                          everything  \\\n",
       "0  Update nice-urls.markdown Update nice-urls.mar...   \n",
       "1  Add error logging to nagios wrapper Add error ...   \n",
       "2  Don't markdown project owner's name in tooltip...   \n",
       "3  Added example configuration file Added example...   \n",
       "4  fix clang device compile fix clang device comp...   \n",
       "\n",
       "                          all_excluding_first_commit  \\\n",
       "0  Update nice-urls.markdown added url rewrite se...   \n",
       "1  Add error logging to nagios wrapper Logs a deb...   \n",
       "2  Don't markdown project owner's name in tooltip...   \n",
       "3  Added example configuration file self-explaini...   \n",
       "4  fix clang device compile  The compiler will ab...   \n",
       "\n",
       "                                 all_excluding_title  \\\n",
       "0  Update nice-urls.markdown added url rewrite se...   \n",
       "1  Add error logging to nagios wrapper Logs a deb...   \n",
       "2  Don't markdown project owner's name in tooltip...   \n",
       "3  Added example configuration file self-explaini...   \n",
       "4  fix clang device compile The compiler will abo...   \n",
       "\n",
       "                         all_excluding_first_comment  \\\n",
       "0  Update nice-urls.markdown Update nice-urls.mar...   \n",
       "1  Add error logging to nagios wrapper Add error ...   \n",
       "2  Don't markdown project owner's name in tooltip...   \n",
       "3  Added example configuration file Added example...   \n",
       "4  fix clang device compile fix clang device comp...   \n",
       "\n",
       "                                all_excluding_labels  \\\n",
       "0  Update nice-urls.markdown Update nice-urls.mar...   \n",
       "1  Add error logging to nagios wrapper Add error ...   \n",
       "2  Don't markdown project owner's name in tooltip...   \n",
       "3  Added example configuration file Added example...   \n",
       "4  fix clang device compile fix clang device comp...   \n",
       "\n",
       "                         all_without_file_extensions  \\\n",
       "0  Update nice-urls.markdown Update nice-urls.mar...   \n",
       "1  Add error logging to nagios wrapper Add error ...   \n",
       "2  Don't markdown project owner's name in tooltip...   \n",
       "3  Added example configuration file Added example...   \n",
       "4  fix clang device compile fix clang device comp...   \n",
       "\n",
       "                                     all_string_data  \\\n",
       "0  Update nice-urls.markdown Update nice-urls.mar...   \n",
       "1  Add error logging to nagios wrapper Add error ...   \n",
       "2  Don't markdown project owner's name in tooltip...   \n",
       "3  Added example configuration file Added example...   \n",
       "4  fix clang device compile fix clang device comp...   \n",
       "\n",
       "                                title_commit_comment      final_tag  \n",
       "0  Update nice-urls.markdown Update nice-urls.mar...  documentation  \n",
       "1  Add error logging to nagios wrapper Add error ...        feature  \n",
       "2  Don't markdown project owner's name in tooltip...        feature  \n",
       "3  Added example configuration file Added example...  documentation  \n",
       "4  fix clang device compile fix clang device comp...            bug  "
      ]
     },
     "execution_count": 2,
     "metadata": {},
     "output_type": "execute_result"
    }
   ],
   "source": [
    "df=pd.read_csv(\"Classification dataset.csv\", encoding= 'unicode_escape')\n",
    "df.head()"
   ]
  },
  {
   "cell_type": "code",
   "execution_count": 3,
   "metadata": {},
   "outputs": [],
   "source": [
    "df.files_changed = df.files_changed.astype(str)\n",
    "df.lines_added = df.lines_added.astype(str)\n",
    "df.lines_removed = df.lines_removed.astype(str)\n",
    "\n",
    "# strings without labels\n",
    "df['strings_no_labels'] = df['first_comment']+ ' ' + df['first_commit_message'] + ' '+ df['title']\n",
    "\n",
    "# only numerical values\n",
    "df['numerical_cols'] = df['files_changed']+ ' ' +df['lines_added'] + ' ' +df['lines_removed']\n",
    "\n",
    "df.fillna('', inplace=True)\n",
    "\n",
    "df.lines_added = pd.to_numeric(df.lines_added)\n",
    "df.files_changed = pd.to_numeric(df.files_changed)\n",
    "df.lines_removed = pd.to_numeric(df.lines_removed)"
   ]
  },
  {
   "cell_type": "code",
   "execution_count": 4,
   "metadata": {},
   "outputs": [],
   "source": [
    "df['category_id'] = df['final_tag'].factorize()[0]\n",
    "category_id_df = df[['final_tag', 'category_id']].drop_duplicates().sort_values('category_id')\n",
    "category_to_id = dict(category_id_df.values)\n",
    "id_to_category = dict(category_id_df[['category_id', 'final_tag']].values)"
   ]
  },
  {
   "cell_type": "code",
   "execution_count": 5,
   "metadata": {},
   "outputs": [
    {
     "data": {
      "text/html": [
       "<div>\n",
       "<style scoped>\n",
       "    .dataframe tbody tr th:only-of-type {\n",
       "        vertical-align: middle;\n",
       "    }\n",
       "\n",
       "    .dataframe tbody tr th {\n",
       "        vertical-align: top;\n",
       "    }\n",
       "\n",
       "    .dataframe thead th {\n",
       "        text-align: right;\n",
       "    }\n",
       "</style>\n",
       "<table border=\"1\" class=\"dataframe\">\n",
       "  <thead>\n",
       "    <tr style=\"text-align: right;\">\n",
       "      <th></th>\n",
       "      <th>first_commit_message</th>\n",
       "      <th>title</th>\n",
       "      <th>first_comment</th>\n",
       "      <th>files_changed</th>\n",
       "      <th>file_extension</th>\n",
       "      <th>labels</th>\n",
       "      <th>lines_added</th>\n",
       "      <th>lines_removed</th>\n",
       "      <th>everything</th>\n",
       "      <th>all_excluding_first_commit</th>\n",
       "      <th>all_excluding_title</th>\n",
       "      <th>all_excluding_first_comment</th>\n",
       "      <th>all_excluding_labels</th>\n",
       "      <th>all_without_file_extensions</th>\n",
       "      <th>all_string_data</th>\n",
       "      <th>title_commit_comment</th>\n",
       "      <th>final_tag</th>\n",
       "      <th>strings_no_labels</th>\n",
       "      <th>numerical_cols</th>\n",
       "      <th>category_id</th>\n",
       "    </tr>\n",
       "  </thead>\n",
       "  <tbody>\n",
       "    <tr>\n",
       "      <th>0</th>\n",
       "      <td>Update nice-urls.markdown</td>\n",
       "      <td>Update nice-urls.markdown</td>\n",
       "      <td>added url rewrite settings for IIS</td>\n",
       "      <td>1</td>\n",
       "      <td>markdown</td>\n",
       "      <td></td>\n",
       "      <td>34</td>\n",
       "      <td>0</td>\n",
       "      <td>Update nice-urls.markdown Update nice-urls.mar...</td>\n",
       "      <td>Update nice-urls.markdown added url rewrite se...</td>\n",
       "      <td>Update nice-urls.markdown added url rewrite se...</td>\n",
       "      <td>Update nice-urls.markdown Update nice-urls.mar...</td>\n",
       "      <td>Update nice-urls.markdown Update nice-urls.mar...</td>\n",
       "      <td>Update nice-urls.markdown Update nice-urls.mar...</td>\n",
       "      <td>Update nice-urls.markdown Update nice-urls.mar...</td>\n",
       "      <td>Update nice-urls.markdown Update nice-urls.mar...</td>\n",
       "      <td>documentation</td>\n",
       "      <td>added url rewrite settings for IIS Update nice...</td>\n",
       "      <td>1 34 0</td>\n",
       "      <td>0</td>\n",
       "    </tr>\n",
       "    <tr>\n",
       "      <th>1</th>\n",
       "      <td>Add error logging to nagios wrapper</td>\n",
       "      <td>Add error logging to nagios wrapper</td>\n",
       "      <td>Logs a debug message showing the output of eac...</td>\n",
       "      <td>1</td>\n",
       "      <td>py</td>\n",
       "      <td></td>\n",
       "      <td>11</td>\n",
       "      <td>1</td>\n",
       "      <td>Add error logging to nagios wrapper Add error ...</td>\n",
       "      <td>Add error logging to nagios wrapper Logs a deb...</td>\n",
       "      <td>Add error logging to nagios wrapper Logs a deb...</td>\n",
       "      <td>Add error logging to nagios wrapper Add error ...</td>\n",
       "      <td>Add error logging to nagios wrapper Add error ...</td>\n",
       "      <td>Add error logging to nagios wrapper Add error ...</td>\n",
       "      <td>Add error logging to nagios wrapper Add error ...</td>\n",
       "      <td>Add error logging to nagios wrapper Add error ...</td>\n",
       "      <td>feature</td>\n",
       "      <td>Logs a debug message showing the output of eac...</td>\n",
       "      <td>1 11 1</td>\n",
       "      <td>1</td>\n",
       "    </tr>\n",
       "    <tr>\n",
       "      <th>2</th>\n",
       "      <td>Don't markdown project owner's name in tooltip</td>\n",
       "      <td>Don't markdown project owner's name in tooltip</td>\n",
       "      <td>This change passes current unit tests. I added...</td>\n",
       "      <td>3</td>\n",
       "      <td>php</td>\n",
       "      <td></td>\n",
       "      <td>10</td>\n",
       "      <td>5</td>\n",
       "      <td>Don't markdown project owner's name in tooltip...</td>\n",
       "      <td>Don't markdown project owner's name in tooltip...</td>\n",
       "      <td>Don't markdown project owner's name in tooltip...</td>\n",
       "      <td>Don't markdown project owner's name in tooltip...</td>\n",
       "      <td>Don't markdown project owner's name in tooltip...</td>\n",
       "      <td>Don't markdown project owner's name in tooltip...</td>\n",
       "      <td>Don't markdown project owner's name in tooltip...</td>\n",
       "      <td>Don't markdown project owner's name in tooltip...</td>\n",
       "      <td>feature</td>\n",
       "      <td>This change passes current unit tests. I added...</td>\n",
       "      <td>3 10 5</td>\n",
       "      <td>1</td>\n",
       "    </tr>\n",
       "    <tr>\n",
       "      <th>3</th>\n",
       "      <td>Added example configuration file</td>\n",
       "      <td>Added example configuration file</td>\n",
       "      <td>self-explaining config file</td>\n",
       "      <td>1</td>\n",
       "      <td>conf</td>\n",
       "      <td></td>\n",
       "      <td>111</td>\n",
       "      <td>0</td>\n",
       "      <td>Added example configuration file Added example...</td>\n",
       "      <td>Added example configuration file self-explaini...</td>\n",
       "      <td>Added example configuration file self-explaini...</td>\n",
       "      <td>Added example configuration file Added example...</td>\n",
       "      <td>Added example configuration file Added example...</td>\n",
       "      <td>Added example configuration file Added example...</td>\n",
       "      <td>Added example configuration file Added example...</td>\n",
       "      <td>Added example configuration file Added example...</td>\n",
       "      <td>documentation</td>\n",
       "      <td>self-explaining config file Added example conf...</td>\n",
       "      <td>1 111 0</td>\n",
       "      <td>0</td>\n",
       "    </tr>\n",
       "    <tr>\n",
       "      <th>4</th>\n",
       "      <td>fix clang device compile</td>\n",
       "      <td>fix clang device compile</td>\n",
       "      <td>The compiler will abort with an error if the p...</td>\n",
       "      <td>1</td>\n",
       "      <td>cmake</td>\n",
       "      <td>CUDA bug</td>\n",
       "      <td>2</td>\n",
       "      <td>0</td>\n",
       "      <td>fix clang device compile fix clang device comp...</td>\n",
       "      <td>fix clang device compile  The compiler will ab...</td>\n",
       "      <td>fix clang device compile The compiler will abo...</td>\n",
       "      <td>fix clang device compile fix clang device comp...</td>\n",
       "      <td>fix clang device compile fix clang device comp...</td>\n",
       "      <td>fix clang device compile fix clang device comp...</td>\n",
       "      <td>fix clang device compile fix clang device comp...</td>\n",
       "      <td>fix clang device compile fix clang device comp...</td>\n",
       "      <td>bug</td>\n",
       "      <td>The compiler will abort with an error if the p...</td>\n",
       "      <td>1 2 0</td>\n",
       "      <td>2</td>\n",
       "    </tr>\n",
       "    <tr>\n",
       "      <th>...</th>\n",
       "      <td>...</td>\n",
       "      <td>...</td>\n",
       "      <td>...</td>\n",
       "      <td>...</td>\n",
       "      <td>...</td>\n",
       "      <td>...</td>\n",
       "      <td>...</td>\n",
       "      <td>...</td>\n",
       "      <td>...</td>\n",
       "      <td>...</td>\n",
       "      <td>...</td>\n",
       "      <td>...</td>\n",
       "      <td>...</td>\n",
       "      <td>...</td>\n",
       "      <td>...</td>\n",
       "      <td>...</td>\n",
       "      <td>...</td>\n",
       "      <td>...</td>\n",
       "      <td>...</td>\n",
       "      <td>...</td>\n",
       "    </tr>\n",
       "    <tr>\n",
       "      <th>321</th>\n",
       "      <td>Updated .gitignore to ignore wiki clone</td>\n",
       "      <td>Wiki automation</td>\n",
       "      <td>Closes #203</td>\n",
       "      <td>2</td>\n",
       "      <td>gitignore py</td>\n",
       "      <td>ux enhancement</td>\n",
       "      <td>39</td>\n",
       "      <td>0</td>\n",
       "      <td>Updated .gitignore to ignore wiki clone Wiki a...</td>\n",
       "      <td>Wiki automation Closes #203 2 gitignore py ux ...</td>\n",
       "      <td>Updated .gitignore to ignore wiki clone Closes...</td>\n",
       "      <td>Updated .gitignore to ignore wiki clone Wiki a...</td>\n",
       "      <td>Updated .gitignore to ignore wiki clone Wiki a...</td>\n",
       "      <td>Updated .gitignore to ignore wiki clone Wiki a...</td>\n",
       "      <td>Updated .gitignore to ignore wiki clone Wiki a...</td>\n",
       "      <td>Updated .gitignore to ignore wiki clone Wiki a...</td>\n",
       "      <td>feature</td>\n",
       "      <td>Closes #203 Updated .gitignore to ignore wiki ...</td>\n",
       "      <td>2 39 0</td>\n",
       "      <td>1</td>\n",
       "    </tr>\n",
       "    <tr>\n",
       "      <th>322</th>\n",
       "      <td>v2.5.2</td>\n",
       "      <td>v2.5.2</td>\n",
       "      <td></td>\n",
       "      <td>6</td>\n",
       "      <td>lock md rb</td>\n",
       "      <td></td>\n",
       "      <td>14</td>\n",
       "      <td>6</td>\n",
       "      <td>v2.5.2 v2.5.2  6 lock md rb  14 6</td>\n",
       "      <td>v2.5.2  6 lock md rb  14 6</td>\n",
       "      <td>v2.5.2  6 lock md rb  14 6</td>\n",
       "      <td>v2.5.2 v2.5.2 6 lock md rb  14 6</td>\n",
       "      <td>v2.5.2 v2.5.2  6 lock md rb 14 6</td>\n",
       "      <td>v2.5.2 v2.5.2  6  14 6</td>\n",
       "      <td>v2.5.2 v2.5.2  lock md rb</td>\n",
       "      <td>v2.5.2 v2.5.2</td>\n",
       "      <td>other</td>\n",
       "      <td></td>\n",
       "      <td>6 14 6</td>\n",
       "      <td>4</td>\n",
       "    </tr>\n",
       "    <tr>\n",
       "      <th>323</th>\n",
       "      <td>Merge pull request #5 from PurpleI2P/openssl</td>\n",
       "      <td>updated appveyor.yml</td>\n",
       "      <td></td>\n",
       "      <td>1</td>\n",
       "      <td>yml</td>\n",
       "      <td></td>\n",
       "      <td>2</td>\n",
       "      <td>2</td>\n",
       "      <td>Merge pull request #5 from PurpleI2P/openssl u...</td>\n",
       "      <td>updated appveyor.yml  1 yml  2 2</td>\n",
       "      <td>Merge pull request #5 from PurpleI2P/openssl  ...</td>\n",
       "      <td>Merge pull request #5 from PurpleI2P/openssl u...</td>\n",
       "      <td>Merge pull request #5 from PurpleI2P/openssl u...</td>\n",
       "      <td>Merge pull request #5 from PurpleI2P/openssl u...</td>\n",
       "      <td>Merge pull request #5 from PurpleI2P/openssl u...</td>\n",
       "      <td>Merge pull request #5 from PurpleI2P/openssl u...</td>\n",
       "      <td>configuration</td>\n",
       "      <td></td>\n",
       "      <td>1 2 2</td>\n",
       "      <td>5</td>\n",
       "    </tr>\n",
       "    <tr>\n",
       "      <th>324</th>\n",
       "      <td>Fixes issue #269.</td>\n",
       "      <td>Fixes issue #269.</td>\n",
       "      <td></td>\n",
       "      <td>1</td>\n",
       "      <td>cs</td>\n",
       "      <td></td>\n",
       "      <td>19</td>\n",
       "      <td>3</td>\n",
       "      <td>Fixes issue #269. Fixes issue #269.  1 cs  19 3</td>\n",
       "      <td>Fixes issue #269.  1 cs  19 3</td>\n",
       "      <td>Fixes issue #269.  1 cs  19 3</td>\n",
       "      <td>Fixes issue #269. Fixes issue #269. 1 cs  19 3</td>\n",
       "      <td>Fixes issue #269. Fixes issue #269.  1 cs 19 3</td>\n",
       "      <td>Fixes issue #269. Fixes issue #269.  1  19 3</td>\n",
       "      <td>Fixes issue #269. Fixes issue #269.  cs</td>\n",
       "      <td>Fixes issue #269. Fixes issue #269.</td>\n",
       "      <td>bug</td>\n",
       "      <td></td>\n",
       "      <td>1 19 3</td>\n",
       "      <td>2</td>\n",
       "    </tr>\n",
       "    <tr>\n",
       "      <th>325</th>\n",
       "      <td>Fix cmake error when -DBUILD_SHARED_LIBS=ON</td>\n",
       "      <td>Fix cmake error when -DBUILD_SHARED_LIBS=ON</td>\n",
       "      <td>Fixes \"CMake Error: TARGETS given no LIBRARY D...</td>\n",
       "      <td>1</td>\n",
       "      <td>txt</td>\n",
       "      <td></td>\n",
       "      <td>1</td>\n",
       "      <td>0</td>\n",
       "      <td>Fix cmake error when -DBUILD_SHARED_LIBS=ON Fi...</td>\n",
       "      <td>Fix cmake error when -DBUILD_SHARED_LIBS=ON Fi...</td>\n",
       "      <td>Fix cmake error when -DBUILD_SHARED_LIBS=ON Fi...</td>\n",
       "      <td>Fix cmake error when -DBUILD_SHARED_LIBS=ON Fi...</td>\n",
       "      <td>Fix cmake error when -DBUILD_SHARED_LIBS=ON Fi...</td>\n",
       "      <td>Fix cmake error when -DBUILD_SHARED_LIBS=ON Fi...</td>\n",
       "      <td>Fix cmake error when -DBUILD_SHARED_LIBS=ON Fi...</td>\n",
       "      <td>Fix cmake error when -DBUILD_SHARED_LIBS=ON Fi...</td>\n",
       "      <td>bug</td>\n",
       "      <td>Fixes \"CMake Error: TARGETS given no LIBRARY D...</td>\n",
       "      <td>1 1 0</td>\n",
       "      <td>2</td>\n",
       "    </tr>\n",
       "  </tbody>\n",
       "</table>\n",
       "<p>326 rows × 20 columns</p>\n",
       "</div>"
      ],
      "text/plain": [
       "                               first_commit_message  \\\n",
       "0                         Update nice-urls.markdown   \n",
       "1               Add error logging to nagios wrapper   \n",
       "2    Don't markdown project owner's name in tooltip   \n",
       "3                  Added example configuration file   \n",
       "4                          fix clang device compile   \n",
       "..                                              ...   \n",
       "321         Updated .gitignore to ignore wiki clone   \n",
       "322                                          v2.5.2   \n",
       "323    Merge pull request #5 from PurpleI2P/openssl   \n",
       "324                               Fixes issue #269.   \n",
       "325     Fix cmake error when -DBUILD_SHARED_LIBS=ON   \n",
       "\n",
       "                                              title  \\\n",
       "0                         Update nice-urls.markdown   \n",
       "1               Add error logging to nagios wrapper   \n",
       "2    Don't markdown project owner's name in tooltip   \n",
       "3                  Added example configuration file   \n",
       "4                         fix clang device compile    \n",
       "..                                              ...   \n",
       "321                                 Wiki automation   \n",
       "322                                          v2.5.2   \n",
       "323                            updated appveyor.yml   \n",
       "324                               Fixes issue #269.   \n",
       "325     Fix cmake error when -DBUILD_SHARED_LIBS=ON   \n",
       "\n",
       "                                         first_comment  files_changed  \\\n",
       "0                   added url rewrite settings for IIS              1   \n",
       "1    Logs a debug message showing the output of eac...              1   \n",
       "2    This change passes current unit tests. I added...              3   \n",
       "3                          self-explaining config file              1   \n",
       "4    The compiler will abort with an error if the p...              1   \n",
       "..                                                 ...            ...   \n",
       "321                                        Closes #203              2   \n",
       "322                                                                 6   \n",
       "323                                                                 1   \n",
       "324                                                                 1   \n",
       "325  Fixes \"CMake Error: TARGETS given no LIBRARY D...              1   \n",
       "\n",
       "    file_extension          labels  lines_added  lines_removed  \\\n",
       "0         markdown                           34              0   \n",
       "1               py                           11              1   \n",
       "2              php                           10              5   \n",
       "3             conf                          111              0   \n",
       "4            cmake        CUDA bug            2              0   \n",
       "..             ...             ...          ...            ...   \n",
       "321   gitignore py  ux enhancement           39              0   \n",
       "322     lock md rb                           14              6   \n",
       "323            yml                            2              2   \n",
       "324             cs                           19              3   \n",
       "325            txt                            1              0   \n",
       "\n",
       "                                            everything  \\\n",
       "0    Update nice-urls.markdown Update nice-urls.mar...   \n",
       "1    Add error logging to nagios wrapper Add error ...   \n",
       "2    Don't markdown project owner's name in tooltip...   \n",
       "3    Added example configuration file Added example...   \n",
       "4    fix clang device compile fix clang device comp...   \n",
       "..                                                 ...   \n",
       "321  Updated .gitignore to ignore wiki clone Wiki a...   \n",
       "322                  v2.5.2 v2.5.2  6 lock md rb  14 6   \n",
       "323  Merge pull request #5 from PurpleI2P/openssl u...   \n",
       "324    Fixes issue #269. Fixes issue #269.  1 cs  19 3   \n",
       "325  Fix cmake error when -DBUILD_SHARED_LIBS=ON Fi...   \n",
       "\n",
       "                            all_excluding_first_commit  \\\n",
       "0    Update nice-urls.markdown added url rewrite se...   \n",
       "1    Add error logging to nagios wrapper Logs a deb...   \n",
       "2    Don't markdown project owner's name in tooltip...   \n",
       "3    Added example configuration file self-explaini...   \n",
       "4    fix clang device compile  The compiler will ab...   \n",
       "..                                                 ...   \n",
       "321  Wiki automation Closes #203 2 gitignore py ux ...   \n",
       "322                         v2.5.2  6 lock md rb  14 6   \n",
       "323                   updated appveyor.yml  1 yml  2 2   \n",
       "324                      Fixes issue #269.  1 cs  19 3   \n",
       "325  Fix cmake error when -DBUILD_SHARED_LIBS=ON Fi...   \n",
       "\n",
       "                                   all_excluding_title  \\\n",
       "0    Update nice-urls.markdown added url rewrite se...   \n",
       "1    Add error logging to nagios wrapper Logs a deb...   \n",
       "2    Don't markdown project owner's name in tooltip...   \n",
       "3    Added example configuration file self-explaini...   \n",
       "4    fix clang device compile The compiler will abo...   \n",
       "..                                                 ...   \n",
       "321  Updated .gitignore to ignore wiki clone Closes...   \n",
       "322                         v2.5.2  6 lock md rb  14 6   \n",
       "323  Merge pull request #5 from PurpleI2P/openssl  ...   \n",
       "324                      Fixes issue #269.  1 cs  19 3   \n",
       "325  Fix cmake error when -DBUILD_SHARED_LIBS=ON Fi...   \n",
       "\n",
       "                           all_excluding_first_comment  \\\n",
       "0    Update nice-urls.markdown Update nice-urls.mar...   \n",
       "1    Add error logging to nagios wrapper Add error ...   \n",
       "2    Don't markdown project owner's name in tooltip...   \n",
       "3    Added example configuration file Added example...   \n",
       "4    fix clang device compile fix clang device comp...   \n",
       "..                                                 ...   \n",
       "321  Updated .gitignore to ignore wiki clone Wiki a...   \n",
       "322                   v2.5.2 v2.5.2 6 lock md rb  14 6   \n",
       "323  Merge pull request #5 from PurpleI2P/openssl u...   \n",
       "324     Fixes issue #269. Fixes issue #269. 1 cs  19 3   \n",
       "325  Fix cmake error when -DBUILD_SHARED_LIBS=ON Fi...   \n",
       "\n",
       "                                  all_excluding_labels  \\\n",
       "0    Update nice-urls.markdown Update nice-urls.mar...   \n",
       "1    Add error logging to nagios wrapper Add error ...   \n",
       "2    Don't markdown project owner's name in tooltip...   \n",
       "3    Added example configuration file Added example...   \n",
       "4    fix clang device compile fix clang device comp...   \n",
       "..                                                 ...   \n",
       "321  Updated .gitignore to ignore wiki clone Wiki a...   \n",
       "322                   v2.5.2 v2.5.2  6 lock md rb 14 6   \n",
       "323  Merge pull request #5 from PurpleI2P/openssl u...   \n",
       "324     Fixes issue #269. Fixes issue #269.  1 cs 19 3   \n",
       "325  Fix cmake error when -DBUILD_SHARED_LIBS=ON Fi...   \n",
       "\n",
       "                           all_without_file_extensions  \\\n",
       "0    Update nice-urls.markdown Update nice-urls.mar...   \n",
       "1    Add error logging to nagios wrapper Add error ...   \n",
       "2    Don't markdown project owner's name in tooltip...   \n",
       "3    Added example configuration file Added example...   \n",
       "4    fix clang device compile fix clang device comp...   \n",
       "..                                                 ...   \n",
       "321  Updated .gitignore to ignore wiki clone Wiki a...   \n",
       "322                             v2.5.2 v2.5.2  6  14 6   \n",
       "323  Merge pull request #5 from PurpleI2P/openssl u...   \n",
       "324       Fixes issue #269. Fixes issue #269.  1  19 3   \n",
       "325  Fix cmake error when -DBUILD_SHARED_LIBS=ON Fi...   \n",
       "\n",
       "                                       all_string_data  \\\n",
       "0    Update nice-urls.markdown Update nice-urls.mar...   \n",
       "1    Add error logging to nagios wrapper Add error ...   \n",
       "2    Don't markdown project owner's name in tooltip...   \n",
       "3    Added example configuration file Added example...   \n",
       "4    fix clang device compile fix clang device comp...   \n",
       "..                                                 ...   \n",
       "321  Updated .gitignore to ignore wiki clone Wiki a...   \n",
       "322                         v2.5.2 v2.5.2  lock md rb    \n",
       "323  Merge pull request #5 from PurpleI2P/openssl u...   \n",
       "324           Fixes issue #269. Fixes issue #269.  cs    \n",
       "325  Fix cmake error when -DBUILD_SHARED_LIBS=ON Fi...   \n",
       "\n",
       "                                  title_commit_comment      final_tag  \\\n",
       "0    Update nice-urls.markdown Update nice-urls.mar...  documentation   \n",
       "1    Add error logging to nagios wrapper Add error ...        feature   \n",
       "2    Don't markdown project owner's name in tooltip...        feature   \n",
       "3    Added example configuration file Added example...  documentation   \n",
       "4    fix clang device compile fix clang device comp...            bug   \n",
       "..                                                 ...            ...   \n",
       "321  Updated .gitignore to ignore wiki clone Wiki a...        feature   \n",
       "322                                     v2.5.2 v2.5.2           other   \n",
       "323  Merge pull request #5 from PurpleI2P/openssl u...  configuration   \n",
       "324               Fixes issue #269. Fixes issue #269.             bug   \n",
       "325  Fix cmake error when -DBUILD_SHARED_LIBS=ON Fi...            bug   \n",
       "\n",
       "                                     strings_no_labels numerical_cols  \\\n",
       "0    added url rewrite settings for IIS Update nice...         1 34 0   \n",
       "1    Logs a debug message showing the output of eac...         1 11 1   \n",
       "2    This change passes current unit tests. I added...         3 10 5   \n",
       "3    self-explaining config file Added example conf...        1 111 0   \n",
       "4    The compiler will abort with an error if the p...          1 2 0   \n",
       "..                                                 ...            ...   \n",
       "321  Closes #203 Updated .gitignore to ignore wiki ...         2 39 0   \n",
       "322                                                            6 14 6   \n",
       "323                                                             1 2 2   \n",
       "324                                                            1 19 3   \n",
       "325  Fixes \"CMake Error: TARGETS given no LIBRARY D...          1 1 0   \n",
       "\n",
       "     category_id  \n",
       "0              0  \n",
       "1              1  \n",
       "2              1  \n",
       "3              0  \n",
       "4              2  \n",
       "..           ...  \n",
       "321            1  \n",
       "322            4  \n",
       "323            5  \n",
       "324            2  \n",
       "325            2  \n",
       "\n",
       "[326 rows x 20 columns]"
      ]
     },
     "execution_count": 5,
     "metadata": {},
     "output_type": "execute_result"
    }
   ],
   "source": [
    "df"
   ]
  },
  {
   "cell_type": "code",
   "execution_count": 6,
   "metadata": {
    "scrolled": false
   },
   "outputs": [
    {
     "data": {
      "image/png": "[encoded data removed]",
      "text/plain": [
       "<Figure size 720x576 with 1 Axes>"
      ]
     },
     "metadata": {
      "needs_background": "light"
     },
     "output_type": "display_data"
    }
   ],
   "source": [
    "fig = plt.figure(figsize=(10,8))\n",
    "df.groupby('final_tag').final_tag.count().plot.bar(ylim=0)\n",
    "plt.title('Number of pull requests in each category')\n",
    "plt.ylabel('Count')\n",
    "plt.show()"
   ]
  },
  {
   "cell_type": "markdown",
   "metadata": {},
   "source": [
    "# All columns"
   ]
  },
  {
   "cell_type": "code",
   "execution_count": 8,
   "metadata": {},
   "outputs": [
    {
     "data": {
      "text/plain": [
       "(326, 234)"
      ]
     },
     "execution_count": 8,
     "metadata": {},
     "output_type": "execute_result"
    }
   ],
   "source": [
    "tfidf = TfidfVectorizer(sublinear_tf=True, min_df=5, norm='l2', encoding='latin-1', ngram_range=(1, 2), stop_words='english')\n",
    "\n",
    "features_all = tfidf.fit_transform(df.everything).toarray()\n",
    "labels_all = df.category_id\n",
    "features_all.shape"
   ]
  },
  {
   "cell_type": "code",
   "execution_count": 9,
   "metadata": {},
   "outputs": [],
   "source": [
    "from sklearn.model_selection import train_test_split\n",
    "from sklearn.feature_extraction.text import CountVectorizer\n",
    "from sklearn.feature_extraction.text import TfidfTransformer\n",
    "from sklearn.naive_bayes import MultinomialNB\n",
    "X_train, X_test, y_train, y_test = train_test_split(df['everything'], df['final_tag'], random_state = 0)\n",
    "count_vect = CountVectorizer()\n",
    "X_train_counts = count_vect.fit_transform(X_train)\n",
    "tfidf_transformer = TfidfTransformer()\n",
    "X_train_tfidf = tfidf_transformer.fit_transform(X_train_counts)\n",
    "clf = MultinomialNB().fit(X_train_tfidf, y_train)"
   ]
  },
  {
   "cell_type": "code",
   "execution_count": 10,
   "metadata": {},
   "outputs": [
    {
     "name": "stderr",
     "output_type": "stream",
     "text": [
      "C:\\Users\\Rishi\\anaconda3\\lib\\site-packages\\sklearn\\model_selection\\_split.py:670: UserWarning: The least populated class in y has only 3 members, which is less than n_splits=5.\n",
      "  warnings.warn((\"The least populated class in y has only %d\"\n",
      "C:\\Users\\Rishi\\anaconda3\\lib\\site-packages\\sklearn\\model_selection\\_split.py:670: UserWarning: The least populated class in y has only 3 members, which is less than n_splits=5.\n",
      "  warnings.warn((\"The least populated class in y has only %d\"\n",
      "C:\\Users\\Rishi\\anaconda3\\lib\\site-packages\\sklearn\\model_selection\\_split.py:670: UserWarning: The least populated class in y has only 3 members, which is less than n_splits=5.\n",
      "  warnings.warn((\"The least populated class in y has only %d\"\n",
      "C:\\Users\\Rishi\\anaconda3\\lib\\site-packages\\sklearn\\model_selection\\_split.py:670: UserWarning: The least populated class in y has only 3 members, which is less than n_splits=5.\n",
      "  warnings.warn((\"The least populated class in y has only %d\"\n"
     ]
    }
   ],
   "source": [
    "models = [\n",
    "    RandomForestClassifier(random_state=0),\n",
    "    LinearSVC(),\n",
    "    MultinomialNB(),\n",
    "    LogisticRegression(random_state=0),\n",
    "]\n",
    "CV = 5\n",
    "cv_df = pd.DataFrame(index=range(CV * len(models)))\n",
    "entries = []\n",
    "for model in models:\n",
    "  model_name = model.__class__.__name__\n",
    "  accuracies = cross_val_score(model, features_all, labels_all, scoring='accuracy', cv=CV)\n",
    "  for fold_idx, accuracy in enumerate(accuracies):\n",
    "    entries.append((model_name, fold_idx, accuracy))\n",
    "cv_df = pd.DataFrame(entries, columns=['model_name', 'fold_idx', 'accuracy'])"
   ]
  },
  {
   "cell_type": "code",
   "execution_count": 11,
   "metadata": {},
   "outputs": [
    {
     "data": {
      "text/plain": [
       "model_name\n",
       "LinearSVC                 0.604196\n",
       "LogisticRegression        0.570629\n",
       "MultinomialNB             0.533753\n",
       "RandomForestClassifier    0.622751\n",
       "Name: accuracy, dtype: float64"
      ]
     },
     "execution_count": 11,
     "metadata": {},
     "output_type": "execute_result"
    }
   ],
   "source": [
    "cv_df.groupby('model_name').accuracy.mean()"
   ]
  },
  {
   "cell_type": "code",
   "execution_count": 12,
   "metadata": {},
   "outputs": [
    {
     "data": {
      "image/png": "[encoded data removed]",
      "text/plain": [
       "<Figure size 576x432 with 2 Axes>"
      ]
     },
     "metadata": {
      "needs_background": "light"
     },
     "output_type": "display_data"
    }
   ],
   "source": [
    "from sklearn.metrics import confusion_matrix\n",
    "model = RandomForestClassifier(random_state=0)\n",
    "\n",
    "X_train, X_test, y_train, y_test, indices_train, indices_test = train_test_split(features_all, labels_all, df.index, test_size=0.25, random_state=0)\n",
    "model.fit(X_train, y_train)\n",
    "y_pred = model.predict(X_test)\n",
    "\n",
    "conf_mat = confusion_matrix(y_test, y_pred)\n",
    "fig, ax = plt.subplots(figsize=(8,6))\n",
    "sns.heatmap(conf_mat, annot=True, fmt='d',\n",
    "            xticklabels=category_id_df.final_tag.values, yticklabels=category_id_df.final_tag.values)\n",
    "plt.ylabel('Actual')\n",
    "plt.title('Random Forest- All columns')\n",
    "plt.xlabel('Predicted')\n",
    "plt.show()"
   ]
  },
  {
   "cell_type": "markdown",
   "metadata": {},
   "source": [
    "# All excluding first commit message"
   ]
  },
  {
   "cell_type": "code",
   "execution_count": 13,
   "metadata": {},
   "outputs": [
    {
     "data": {
      "text/plain": [
       "(326, 206)"
      ]
     },
     "execution_count": 13,
     "metadata": {},
     "output_type": "execute_result"
    }
   ],
   "source": [
    "features_all_excluding_first_commit = tfidf.fit_transform(df.all_excluding_first_commit).toarray()\n",
    "labels_all_excluding_first_commit = df.category_id\n",
    "features_all_excluding_first_commit.shape"
   ]
  },
  {
   "cell_type": "code",
   "execution_count": 14,
   "metadata": {},
   "outputs": [
    {
     "name": "stderr",
     "output_type": "stream",
     "text": [
      "C:\\Users\\Rishi\\anaconda3\\lib\\site-packages\\sklearn\\model_selection\\_split.py:670: UserWarning: The least populated class in y has only 3 members, which is less than n_splits=5.\n",
      "  warnings.warn((\"The least populated class in y has only %d\"\n",
      "C:\\Users\\Rishi\\anaconda3\\lib\\site-packages\\sklearn\\model_selection\\_split.py:670: UserWarning: The least populated class in y has only 3 members, which is less than n_splits=5.\n",
      "  warnings.warn((\"The least populated class in y has only %d\"\n",
      "C:\\Users\\Rishi\\anaconda3\\lib\\site-packages\\sklearn\\model_selection\\_split.py:670: UserWarning: The least populated class in y has only 3 members, which is less than n_splits=5.\n",
      "  warnings.warn((\"The least populated class in y has only %d\"\n",
      "C:\\Users\\Rishi\\anaconda3\\lib\\site-packages\\sklearn\\model_selection\\_split.py:670: UserWarning: The least populated class in y has only 3 members, which is less than n_splits=5.\n",
      "  warnings.warn((\"The least populated class in y has only %d\"\n"
     ]
    },
    {
     "data": {
      "text/plain": [
       "model_name\n",
       "LinearSVC                 0.619627\n",
       "LogisticRegression        0.595291\n",
       "MultinomialNB             0.543124\n",
       "RandomForestClassifier    0.644336\n",
       "Name: accuracy, dtype: float64"
      ]
     },
     "execution_count": 14,
     "metadata": {},
     "output_type": "execute_result"
    }
   ],
   "source": [
    "X_train, X_test, y_train, y_test = train_test_split(df['all_excluding_first_commit'], df['final_tag'], random_state = 0)\n",
    "\n",
    "models = [\n",
    "    RandomForestClassifier(random_state=0),\n",
    "    LinearSVC(),\n",
    "    MultinomialNB(),\n",
    "    LogisticRegression(random_state=0),\n",
    "]\n",
    "CV = 5\n",
    "cv_df_2 = pd.DataFrame(index=range(CV * len(models)))\n",
    "entries = []\n",
    "for model in models:\n",
    "  model_name = model.__class__.__name__\n",
    "  accuracies = cross_val_score(model, features_all_excluding_first_commit, labels_all_excluding_first_commit, scoring='accuracy', cv=CV)\n",
    "  for fold_idx, accuracy in enumerate(accuracies):\n",
    "    entries.append((model_name, fold_idx, accuracy))\n",
    "cv_df_2 = pd.DataFrame(entries, columns=['model_name', 'fold_idx', 'accuracy'])\n",
    "\n",
    "# Accuracy of all algorithms\n",
    "cv_df_2.groupby('model_name').accuracy.mean()"
   ]
  },
  {
   "cell_type": "code",
   "execution_count": 15,
   "metadata": {},
   "outputs": [
    {
     "data": {
      "image/png": "[encoded data removed]",
      "text/plain": [
       "<Figure size 576x432 with 2 Axes>"
      ]
     },
     "metadata": {
      "needs_background": "light"
     },
     "output_type": "display_data"
    }
   ],
   "source": [
    "model = RandomForestClassifier(random_state=0)\n",
    "\n",
    "X_train, X_test, y_train, y_test, indices_train, indices_test = train_test_split(features_all_excluding_first_commit, labels_all_excluding_first_commit, df.index, test_size=0.25, random_state=0)\n",
    "model.fit(X_train, y_train)\n",
    "y_pred = model.predict(X_test)\n",
    "\n",
    "conf_mat = confusion_matrix(y_test, y_pred)\n",
    "fig, ax = plt.subplots(figsize=(8,6))\n",
    "sns.heatmap(conf_mat, annot=True, fmt='d',\n",
    "            xticklabels=category_id_df.final_tag.values, yticklabels=category_id_df.final_tag.values)\n",
    "plt.ylabel('Actual')\n",
    "plt.title('Random Forest- All columns excluding first_commit_message')\n",
    "plt.xlabel('Predicted')\n",
    "plt.show()"
   ]
  },
  {
   "cell_type": "code",
   "execution_count": 16,
   "metadata": {},
   "outputs": [
    {
     "name": "stdout",
     "output_type": "stream",
     "text": [
      "                      precision    recall  f1-score   support\n",
      "\n",
      "       documentation       0.80      0.67      0.73         6\n",
      "             feature       0.60      0.79      0.68        34\n",
      "                 bug       0.47      0.50      0.48        14\n",
      "              revert       0.00      0.00      0.00         2\n",
      "               other       0.80      0.80      0.80         5\n",
      "       configuration       0.00      0.00      0.00         4\n",
      "         translation       0.86      0.86      0.86         7\n",
      "                bulk       0.67      0.50      0.57         4\n",
      "         refactoring       0.00      0.00      0.00         3\n",
      "             testing       0.00      0.00      0.00         2\n",
      "repository operation       0.00      0.00      0.00         1\n",
      "\n",
      "            accuracy                           0.61        82\n",
      "           macro avg       0.38      0.37      0.37        82\n",
      "        weighted avg       0.54      0.61      0.57        82\n",
      "\n"
     ]
    },
    {
     "name": "stderr",
     "output_type": "stream",
     "text": [
      "C:\\Users\\Rishi\\anaconda3\\lib\\site-packages\\sklearn\\metrics\\_classification.py:1221: UndefinedMetricWarning: Precision and F-score are ill-defined and being set to 0.0 in labels with no predicted samples. Use `zero_division` parameter to control this behavior.\n",
      "  _warn_prf(average, modifier, msg_start, len(result))\n"
     ]
    }
   ],
   "source": [
    "from sklearn import metrics\n",
    "print(metrics.classification_report(y_test, y_pred, target_names=df['final_tag'].unique()))"
   ]
  },
  {
   "cell_type": "markdown",
   "metadata": {},
   "source": [
    "# All excluding title"
   ]
  },
  {
   "cell_type": "code",
   "execution_count": 17,
   "metadata": {},
   "outputs": [
    {
     "data": {
      "text/plain": [
       "(326, 212)"
      ]
     },
     "execution_count": 17,
     "metadata": {},
     "output_type": "execute_result"
    }
   ],
   "source": [
    "features_all_excluding_title = tfidf.fit_transform(df.all_excluding_title).toarray()\n",
    "labels_all_excluding_title = df.category_id\n",
    "features_all_excluding_title.shape"
   ]
  },
  {
   "cell_type": "code",
   "execution_count": 18,
   "metadata": {},
   "outputs": [
    {
     "name": "stderr",
     "output_type": "stream",
     "text": [
      "C:\\Users\\Rishi\\anaconda3\\lib\\site-packages\\sklearn\\model_selection\\_split.py:670: UserWarning: The least populated class in y has only 3 members, which is less than n_splits=5.\n",
      "  warnings.warn((\"The least populated class in y has only %d\"\n",
      "C:\\Users\\Rishi\\anaconda3\\lib\\site-packages\\sklearn\\model_selection\\_split.py:670: UserWarning: The least populated class in y has only 3 members, which is less than n_splits=5.\n",
      "  warnings.warn((\"The least populated class in y has only %d\"\n",
      "C:\\Users\\Rishi\\anaconda3\\lib\\site-packages\\sklearn\\model_selection\\_split.py:670: UserWarning: The least populated class in y has only 3 members, which is less than n_splits=5.\n",
      "  warnings.warn((\"The least populated class in y has only %d\"\n",
      "C:\\Users\\Rishi\\anaconda3\\lib\\site-packages\\sklearn\\model_selection\\_split.py:670: UserWarning: The least populated class in y has only 3 members, which is less than n_splits=5.\n",
      "  warnings.warn((\"The least populated class in y has only %d\"\n"
     ]
    },
    {
     "data": {
      "text/plain": [
       "model_name\n",
       "LinearSVC                 0.558368\n",
       "LogisticRegression        0.512354\n",
       "MultinomialNB             0.481538\n",
       "RandomForestClassifier    0.573800\n",
       "Name: accuracy, dtype: float64"
      ]
     },
     "execution_count": 18,
     "metadata": {},
     "output_type": "execute_result"
    }
   ],
   "source": [
    "X_train, X_test, y_train, y_test = train_test_split(df['all_excluding_title'], df['final_tag'], random_state = 0)\n",
    "\n",
    "models = [\n",
    "    RandomForestClassifier(random_state=0),\n",
    "    LinearSVC(),\n",
    "    MultinomialNB(),\n",
    "    LogisticRegression(random_state=0),\n",
    "]\n",
    "CV = 5\n",
    "cv_df_2 = pd.DataFrame(index=range(CV * len(models)))\n",
    "entries = []\n",
    "for model in models:\n",
    "  model_name = model.__class__.__name__\n",
    "  accuracies = cross_val_score(model, features_all_excluding_title, labels_all_excluding_title, scoring='accuracy', cv=CV)\n",
    "  for fold_idx, accuracy in enumerate(accuracies):\n",
    "    entries.append((model_name, fold_idx, accuracy))\n",
    "cv_df_2 = pd.DataFrame(entries, columns=['model_name', 'fold_idx', 'accuracy'])\n",
    "\n",
    "# Accuracy of all algorithms\n",
    "cv_df_2.groupby('model_name').accuracy.mean()"
   ]
  },
  {
   "cell_type": "code",
   "execution_count": 19,
   "metadata": {},
   "outputs": [
    {
     "data": {
      "image/png": "[encoded data removed]",
      "text/plain": [
       "<Figure size 576x432 with 2 Axes>"
      ]
     },
     "metadata": {
      "needs_background": "light"
     },
     "output_type": "display_data"
    }
   ],
   "source": [
    "model = RandomForestClassifier(random_state=0)\n",
    "\n",
    "X_train, X_test, y_train, y_test, indices_train, indices_test = train_test_split(features_all_excluding_title, labels_all_excluding_title, df.index, test_size=0.25, random_state=0)\n",
    "model.fit(X_train, y_train)\n",
    "y_pred = model.predict(X_test)\n",
    "\n",
    "conf_mat = confusion_matrix(y_test, y_pred)\n",
    "fig, ax = plt.subplots(figsize=(8,6))\n",
    "sns.heatmap(conf_mat, annot=True, fmt='d',\n",
    "            xticklabels=category_id_df.final_tag.values, yticklabels=category_id_df.final_tag.values)\n",
    "plt.ylabel('Actual')\n",
    "plt.title('Random Forest- All columns excluding title')\n",
    "plt.xlabel('Predicted')\n",
    "plt.show()"
   ]
  },
  {
   "cell_type": "markdown",
   "metadata": {},
   "source": [
    "# All excluding first comment"
   ]
  },
  {
   "cell_type": "code",
   "execution_count": 20,
   "metadata": {},
   "outputs": [
    {
     "data": {
      "text/plain": [
       "(326, 118)"
      ]
     },
     "execution_count": 20,
     "metadata": {},
     "output_type": "execute_result"
    }
   ],
   "source": [
    "features_all_excluding_first_comment = tfidf.fit_transform(df.all_excluding_first_comment).toarray()\n",
    "labels_all_excluding_first_comment = df.category_id\n",
    "features_all_excluding_first_comment.shape"
   ]
  },
  {
   "cell_type": "code",
   "execution_count": 21,
   "metadata": {},
   "outputs": [
    {
     "name": "stderr",
     "output_type": "stream",
     "text": [
      "C:\\Users\\Rishi\\anaconda3\\lib\\site-packages\\sklearn\\model_selection\\_split.py:670: UserWarning: The least populated class in y has only 3 members, which is less than n_splits=5.\n",
      "  warnings.warn((\"The least populated class in y has only %d\"\n",
      "C:\\Users\\Rishi\\anaconda3\\lib\\site-packages\\sklearn\\model_selection\\_split.py:670: UserWarning: The least populated class in y has only 3 members, which is less than n_splits=5.\n",
      "  warnings.warn((\"The least populated class in y has only %d\"\n",
      "C:\\Users\\Rishi\\anaconda3\\lib\\site-packages\\sklearn\\model_selection\\_split.py:670: UserWarning: The least populated class in y has only 3 members, which is less than n_splits=5.\n",
      "  warnings.warn((\"The least populated class in y has only %d\"\n",
      "C:\\Users\\Rishi\\anaconda3\\lib\\site-packages\\sklearn\\model_selection\\_split.py:670: UserWarning: The least populated class in y has only 3 members, which is less than n_splits=5.\n",
      "  warnings.warn((\"The least populated class in y has only %d\"\n"
     ]
    },
    {
     "data": {
      "text/plain": [
       "model_name\n",
       "LinearSVC                 0.595012\n",
       "LogisticRegression        0.604382\n",
       "MultinomialNB             0.570583\n",
       "RandomForestClassifier    0.628765\n",
       "Name: accuracy, dtype: float64"
      ]
     },
     "execution_count": 21,
     "metadata": {},
     "output_type": "execute_result"
    }
   ],
   "source": [
    "X_train, X_test, y_train, y_test = train_test_split(df['all_excluding_first_comment'], df['final_tag'], random_state = 0)\n",
    "\n",
    "models = [\n",
    "    RandomForestClassifier(random_state=0),\n",
    "    LinearSVC(),\n",
    "    MultinomialNB(),\n",
    "    LogisticRegression(random_state=0),\n",
    "]\n",
    "CV = 5\n",
    "cv_df_2 = pd.DataFrame(index=range(CV * len(models)))\n",
    "entries = []\n",
    "for model in models:\n",
    "  model_name = model.__class__.__name__\n",
    "  accuracies = cross_val_score(model, features_all_excluding_first_comment, labels_all_excluding_first_comment, scoring='accuracy', cv=CV)\n",
    "  for fold_idx, accuracy in enumerate(accuracies):\n",
    "    entries.append((model_name, fold_idx, accuracy))\n",
    "cv_df_2 = pd.DataFrame(entries, columns=['model_name', 'fold_idx', 'accuracy'])\n",
    "\n",
    "# Accuracy of all algorithms\n",
    "cv_df_2.groupby('model_name').accuracy.mean()"
   ]
  },
  {
   "cell_type": "code",
   "execution_count": 22,
   "metadata": {},
   "outputs": [
    {
     "data": {
      "image/png": "[encoded data removed]",
      "text/plain": [
       "<Figure size 576x432 with 2 Axes>"
      ]
     },
     "metadata": {
      "needs_background": "light"
     },
     "output_type": "display_data"
    }
   ],
   "source": [
    "model = model = RandomForestClassifier(random_state=0)\n",
    "\n",
    "X_train, X_test, y_train, y_test, indices_train, indices_test = train_test_split(features_all_excluding_first_comment, labels_all_excluding_first_comment, df.index, test_size=0.25, random_state=0)\n",
    "model.fit(X_train, y_train)\n",
    "y_pred = model.predict(X_test)\n",
    "\n",
    "conf_mat = confusion_matrix(y_test, y_pred)\n",
    "fig, ax = plt.subplots(figsize=(8,6))\n",
    "sns.heatmap(conf_mat, annot=True, fmt='d',\n",
    "            xticklabels=category_id_df.final_tag.values, yticklabels=category_id_df.final_tag.values)\n",
    "plt.ylabel('Actual')\n",
    "plt.title('Random Forest- All columns excluding first_comment')\n",
    "plt.xlabel('Predicted')\n",
    "plt.show()"
   ]
  },
  {
   "cell_type": "markdown",
   "metadata": {},
   "source": [
    "# All excluding labels"
   ]
  },
  {
   "cell_type": "code",
   "execution_count": 23,
   "metadata": {},
   "outputs": [
    {
     "data": {
      "text/plain": [
       "(326, 227)"
      ]
     },
     "execution_count": 23,
     "metadata": {},
     "output_type": "execute_result"
    }
   ],
   "source": [
    "features_all_excluding_labels = tfidf.fit_transform(df.all_excluding_labels).toarray()\n",
    "labels_all_excluding_labels = df.category_id\n",
    "features_all_excluding_labels.shape"
   ]
  },
  {
   "cell_type": "code",
   "execution_count": 24,
   "metadata": {},
   "outputs": [
    {
     "name": "stderr",
     "output_type": "stream",
     "text": [
      "C:\\Users\\Rishi\\anaconda3\\lib\\site-packages\\sklearn\\model_selection\\_split.py:670: UserWarning: The least populated class in y has only 3 members, which is less than n_splits=5.\n",
      "  warnings.warn((\"The least populated class in y has only %d\"\n",
      "C:\\Users\\Rishi\\anaconda3\\lib\\site-packages\\sklearn\\model_selection\\_split.py:670: UserWarning: The least populated class in y has only 3 members, which is less than n_splits=5.\n",
      "  warnings.warn((\"The least populated class in y has only %d\"\n",
      "C:\\Users\\Rishi\\anaconda3\\lib\\site-packages\\sklearn\\model_selection\\_split.py:670: UserWarning: The least populated class in y has only 3 members, which is less than n_splits=5.\n",
      "  warnings.warn((\"The least populated class in y has only %d\"\n",
      "C:\\Users\\Rishi\\anaconda3\\lib\\site-packages\\sklearn\\model_selection\\_split.py:670: UserWarning: The least populated class in y has only 3 members, which is less than n_splits=5.\n",
      "  warnings.warn((\"The least populated class in y has only %d\"\n"
     ]
    },
    {
     "data": {
      "text/plain": [
       "model_name\n",
       "LinearSVC                 0.616457\n",
       "LogisticRegression        0.576737\n",
       "MultinomialNB             0.555245\n",
       "RandomForestClassifier    0.613520\n",
       "Name: accuracy, dtype: float64"
      ]
     },
     "execution_count": 24,
     "metadata": {},
     "output_type": "execute_result"
    }
   ],
   "source": [
    "X_train, X_test, y_train, y_test = train_test_split(df['all_excluding_labels'], df['final_tag'], random_state = 0)\n",
    "\n",
    "models = [\n",
    "    RandomForestClassifier(random_state=0),\n",
    "    LinearSVC(),\n",
    "    MultinomialNB(),\n",
    "    LogisticRegression(random_state=0),\n",
    "]\n",
    "CV = 5\n",
    "cv_df_2 = pd.DataFrame(index=range(CV * len(models)))\n",
    "entries = []\n",
    "for model in models:\n",
    "  model_name = model.__class__.__name__\n",
    "  accuracies = cross_val_score(model, features_all_excluding_labels, labels_all_excluding_labels, scoring='accuracy', cv=CV)\n",
    "  for fold_idx, accuracy in enumerate(accuracies):\n",
    "    entries.append((model_name, fold_idx, accuracy))\n",
    "cv_df_2 = pd.DataFrame(entries, columns=['model_name', 'fold_idx', 'accuracy'])\n",
    "# sns.boxplot(x='model_name', y='accuracy', data=cv_df)\n",
    "# sns.stripplot(x='model_name', y='accuracy', data=cv_df, \n",
    "#               size=8, jitter=True, edgecolor=\"gray\", linewidth=2)\n",
    "# plt.show()\n",
    "\n",
    "# Accuracy of all algorithms\n",
    "cv_df_2.groupby('model_name').accuracy.mean()"
   ]
  },
  {
   "cell_type": "code",
   "execution_count": 25,
   "metadata": {},
   "outputs": [
    {
     "data": {
      "image/png": "[encoded data removed]",
      "text/plain": [
       "<Figure size 576x432 with 2 Axes>"
      ]
     },
     "metadata": {
      "needs_background": "light"
     },
     "output_type": "display_data"
    }
   ],
   "source": [
    "model = model = LinearSVC()\n",
    "\n",
    "X_train, X_test, y_train, y_test, indices_train, indices_test = train_test_split(features_all_excluding_labels, labels_all_excluding_labels, df.index, test_size=0.25, random_state=0)\n",
    "model.fit(X_train, y_train)\n",
    "y_pred = model.predict(X_test)\n",
    "\n",
    "conf_mat = confusion_matrix(y_test, y_pred)\n",
    "fig, ax = plt.subplots(figsize=(8,6))\n",
    "sns.heatmap(conf_mat, annot=True, fmt='d',\n",
    "            xticklabels=category_id_df.final_tag.values, yticklabels=category_id_df.final_tag.values)\n",
    "plt.ylabel('Actual')\n",
    "plt.title('Linear SVC- All columns excluding labels')\n",
    "plt.xlabel('Predicted')\n",
    "plt.show()"
   ]
  },
  {
   "cell_type": "markdown",
   "metadata": {},
   "source": [
    "# All excluding file extensions"
   ]
  },
  {
   "cell_type": "code",
   "execution_count": 26,
   "metadata": {},
   "outputs": [
    {
     "data": {
      "text/plain": [
       "(326, 212)"
      ]
     },
     "execution_count": 26,
     "metadata": {},
     "output_type": "execute_result"
    }
   ],
   "source": [
    "features_all_without_file_extensions = tfidf.fit_transform(df.all_without_file_extensions).toarray()\n",
    "labels_all_without_file_extensions = df.category_id\n",
    "features_all_without_file_extensions.shape"
   ]
  },
  {
   "cell_type": "code",
   "execution_count": 27,
   "metadata": {},
   "outputs": [
    {
     "name": "stderr",
     "output_type": "stream",
     "text": [
      "C:\\Users\\Rishi\\anaconda3\\lib\\site-packages\\sklearn\\model_selection\\_split.py:670: UserWarning: The least populated class in y has only 3 members, which is less than n_splits=5.\n",
      "  warnings.warn((\"The least populated class in y has only %d\"\n",
      "C:\\Users\\Rishi\\anaconda3\\lib\\site-packages\\sklearn\\model_selection\\_split.py:670: UserWarning: The least populated class in y has only 3 members, which is less than n_splits=5.\n",
      "  warnings.warn((\"The least populated class in y has only %d\"\n",
      "C:\\Users\\Rishi\\anaconda3\\lib\\site-packages\\sklearn\\model_selection\\_split.py:670: UserWarning: The least populated class in y has only 3 members, which is less than n_splits=5.\n",
      "  warnings.warn((\"The least populated class in y has only %d\"\n",
      "C:\\Users\\Rishi\\anaconda3\\lib\\site-packages\\sklearn\\model_selection\\_split.py:670: UserWarning: The least populated class in y has only 3 members, which is less than n_splits=5.\n",
      "  warnings.warn((\"The least populated class in y has only %d\"\n"
     ]
    },
    {
     "data": {
      "text/plain": [
       "model_name\n",
       "LinearSVC                 0.592075\n",
       "LogisticRegression        0.567646\n",
       "MultinomialNB             0.542937\n",
       "RandomForestClassifier    0.585921\n",
       "Name: accuracy, dtype: float64"
      ]
     },
     "execution_count": 27,
     "metadata": {},
     "output_type": "execute_result"
    }
   ],
   "source": [
    "X_train, X_test, y_train, y_test = train_test_split(df['all_without_file_extensions'], df['final_tag'], random_state = 0)\n",
    "\n",
    "models = [\n",
    "    RandomForestClassifier(random_state=0),\n",
    "    LinearSVC(),\n",
    "    MultinomialNB(),\n",
    "    LogisticRegression(random_state=0),\n",
    "]\n",
    "CV = 5\n",
    "cv_df_2 = pd.DataFrame(index=range(CV * len(models)))\n",
    "entries = []\n",
    "for model in models:\n",
    "  model_name = model.__class__.__name__\n",
    "  accuracies = cross_val_score(model, features_all_without_file_extensions, labels_all_without_file_extensions, scoring='accuracy', cv=CV)\n",
    "  for fold_idx, accuracy in enumerate(accuracies):\n",
    "    entries.append((model_name, fold_idx, accuracy))\n",
    "cv_df_2 = pd.DataFrame(entries, columns=['model_name', 'fold_idx', 'accuracy'])\n",
    "\n",
    "# Accuracy of all algorithms\n",
    "cv_df_2.groupby('model_name').accuracy.mean()"
   ]
  },
  {
   "cell_type": "code",
   "execution_count": 28,
   "metadata": {
    "scrolled": false
   },
   "outputs": [
    {
     "data": {
      "image/png": "[encoded data removed]",
      "text/plain": [
       "<Figure size 576x432 with 2 Axes>"
      ]
     },
     "metadata": {
      "needs_background": "light"
     },
     "output_type": "display_data"
    }
   ],
   "source": [
    "model = LinearSVC()\n",
    "\n",
    "X_train, X_test, y_train, y_test, indices_train, indices_test = train_test_split(features_all_without_file_extensions, labels_all_without_file_extensions, df.index, test_size=0.25, random_state=0)\n",
    "model.fit(X_train, y_train)\n",
    "y_pred = model.predict(X_test)\n",
    "\n",
    "conf_mat = confusion_matrix(y_test, y_pred)\n",
    "fig, ax = plt.subplots(figsize=(8,6))\n",
    "sns.heatmap(conf_mat, annot=True, fmt='d',\n",
    "            xticklabels=category_id_df.final_tag.values, yticklabels=category_id_df.final_tag.values)\n",
    "plt.ylabel('Actual')\n",
    "plt.title('Linear SVC- All columns excluding file extensions')\n",
    "plt.xlabel('Predicted')\n",
    "plt.show()"
   ]
  },
  {
   "cell_type": "markdown",
   "metadata": {},
   "source": [
    "# All string data"
   ]
  },
  {
   "cell_type": "code",
   "execution_count": 29,
   "metadata": {},
   "outputs": [
    {
     "data": {
      "text/plain": [
       "(326, 216)"
      ]
     },
     "execution_count": 29,
     "metadata": {},
     "output_type": "execute_result"
    }
   ],
   "source": [
    "features_all_string_data = tfidf.fit_transform(df.all_string_data).toarray()\n",
    "labels_all_string_data = df.category_id\n",
    "features_all_string_data.shape"
   ]
  },
  {
   "cell_type": "code",
   "execution_count": 30,
   "metadata": {},
   "outputs": [
    {
     "name": "stderr",
     "output_type": "stream",
     "text": [
      "C:\\Users\\Rishi\\anaconda3\\lib\\site-packages\\sklearn\\model_selection\\_split.py:670: UserWarning: The least populated class in y has only 3 members, which is less than n_splits=5.\n",
      "  warnings.warn((\"The least populated class in y has only %d\"\n",
      "C:\\Users\\Rishi\\anaconda3\\lib\\site-packages\\sklearn\\model_selection\\_split.py:670: UserWarning: The least populated class in y has only 3 members, which is less than n_splits=5.\n",
      "  warnings.warn((\"The least populated class in y has only %d\"\n",
      "C:\\Users\\Rishi\\anaconda3\\lib\\site-packages\\sklearn\\model_selection\\_split.py:670: UserWarning: The least populated class in y has only 3 members, which is less than n_splits=5.\n",
      "  warnings.warn((\"The least populated class in y has only %d\"\n",
      "C:\\Users\\Rishi\\anaconda3\\lib\\site-packages\\sklearn\\model_selection\\_split.py:670: UserWarning: The least populated class in y has only 3 members, which is less than n_splits=5.\n",
      "  warnings.warn((\"The least populated class in y has only %d\"\n"
     ]
    },
    {
     "data": {
      "text/plain": [
       "model_name\n",
       "LinearSVC                 0.595012\n",
       "LogisticRegression        0.579953\n",
       "MultinomialNB             0.542984\n",
       "RandomForestClassifier    0.632028\n",
       "Name: accuracy, dtype: float64"
      ]
     },
     "execution_count": 30,
     "metadata": {},
     "output_type": "execute_result"
    }
   ],
   "source": [
    "X_train, X_test, y_train, y_test = train_test_split(df['all_string_data'], df['final_tag'], random_state = 0)\n",
    "\n",
    "models = [\n",
    "    RandomForestClassifier(random_state=0),\n",
    "    LinearSVC(),\n",
    "    MultinomialNB(),\n",
    "    LogisticRegression(random_state=0),\n",
    "]\n",
    "CV = 5\n",
    "cv_df_2 = pd.DataFrame(index=range(CV * len(models)))\n",
    "entries = []\n",
    "for model in models:\n",
    "  model_name = model.__class__.__name__\n",
    "  accuracies = cross_val_score(model, features_all_string_data, labels_all_string_data, scoring='accuracy', cv=CV)\n",
    "  for fold_idx, accuracy in enumerate(accuracies):\n",
    "    entries.append((model_name, fold_idx, accuracy))\n",
    "cv_df_2 = pd.DataFrame(entries, columns=['model_name', 'fold_idx', 'accuracy'])\n",
    "\n",
    "# Accuracy of all algorithms\n",
    "cv_df_2.groupby('model_name').accuracy.mean()"
   ]
  },
  {
   "cell_type": "code",
   "execution_count": 31,
   "metadata": {},
   "outputs": [
    {
     "data": {
      "image/png": "[encoded data removed]",
      "text/plain": [
       "<Figure size 576x432 with 2 Axes>"
      ]
     },
     "metadata": {
      "needs_background": "light"
     },
     "output_type": "display_data"
    }
   ],
   "source": [
    "model = RandomForestClassifier(random_state=0)\n",
    "\n",
    "X_train, X_test, y_train, y_test, indices_train, indices_test = train_test_split(features_all_string_data, labels_all_string_data, df.index, test_size=0.25, random_state=0)\n",
    "model.fit(X_train, y_train)\n",
    "y_pred = model.predict(X_test)\n",
    "\n",
    "conf_mat = confusion_matrix(y_test, y_pred)\n",
    "fig, ax = plt.subplots(figsize=(8,6))\n",
    "sns.heatmap(conf_mat, annot=True, fmt='d',\n",
    "            xticklabels=category_id_df.final_tag.values, yticklabels=category_id_df.final_tag.values)\n",
    "plt.ylabel('Actual')\n",
    "plt.title('Random Forest- String Data')\n",
    "plt.xlabel('Predicted')\n",
    "plt.show()"
   ]
  },
  {
   "cell_type": "markdown",
   "metadata": {},
   "source": [
    "# Title, commit message, comment"
   ]
  },
  {
   "cell_type": "code",
   "execution_count": 32,
   "metadata": {},
   "outputs": [
    {
     "data": {
      "text/plain": [
       "(326, 188)"
      ]
     },
     "execution_count": 32,
     "metadata": {},
     "output_type": "execute_result"
    }
   ],
   "source": [
    "features_title_commit_comment = tfidf.fit_transform(df.title_commit_comment).toarray()\n",
    "labels_title_commit_comment = df.category_id\n",
    "features_title_commit_comment.shape"
   ]
  },
  {
   "cell_type": "code",
   "execution_count": 33,
   "metadata": {},
   "outputs": [
    {
     "name": "stderr",
     "output_type": "stream",
     "text": [
      "C:\\Users\\Rishi\\anaconda3\\lib\\site-packages\\sklearn\\model_selection\\_split.py:670: UserWarning: The least populated class in y has only 3 members, which is less than n_splits=5.\n",
      "  warnings.warn((\"The least populated class in y has only %d\"\n",
      "C:\\Users\\Rishi\\anaconda3\\lib\\site-packages\\sklearn\\model_selection\\_split.py:670: UserWarning: The least populated class in y has only 3 members, which is less than n_splits=5.\n",
      "  warnings.warn((\"The least populated class in y has only %d\"\n",
      "C:\\Users\\Rishi\\anaconda3\\lib\\site-packages\\sklearn\\model_selection\\_split.py:670: UserWarning: The least populated class in y has only 3 members, which is less than n_splits=5.\n",
      "  warnings.warn((\"The least populated class in y has only %d\"\n",
      "C:\\Users\\Rishi\\anaconda3\\lib\\site-packages\\sklearn\\model_selection\\_split.py:670: UserWarning: The least populated class in y has only 3 members, which is less than n_splits=5.\n",
      "  warnings.warn((\"The least populated class in y has only %d\"\n"
     ]
    },
    {
     "data": {
      "text/plain": [
       "model_name\n",
       "LinearSVC                 0.564429\n",
       "LogisticRegression        0.576830\n",
       "MultinomialNB             0.552168\n",
       "RandomForestClassifier    0.586014\n",
       "Name: accuracy, dtype: float64"
      ]
     },
     "execution_count": 33,
     "metadata": {},
     "output_type": "execute_result"
    }
   ],
   "source": [
    "X_train, X_test, y_train, y_test = train_test_split(df['title_commit_comment'], df['final_tag'], random_state = 0)\n",
    "\n",
    "models = [\n",
    "    RandomForestClassifier(random_state=0),\n",
    "    LinearSVC(),\n",
    "    MultinomialNB(),\n",
    "    LogisticRegression(random_state=0),\n",
    "]\n",
    "CV = 5\n",
    "cv_df_2 = pd.DataFrame(index=range(CV * len(models)))\n",
    "entries = []\n",
    "for model in models:\n",
    "  model_name = model.__class__.__name__\n",
    "  accuracies = cross_val_score(model, features_title_commit_comment, labels_title_commit_comment, scoring='accuracy', cv=CV)\n",
    "  for fold_idx, accuracy in enumerate(accuracies):\n",
    "    entries.append((model_name, fold_idx, accuracy))\n",
    "cv_df_2 = pd.DataFrame(entries, columns=['model_name', 'fold_idx', 'accuracy'])\n",
    "\n",
    "# Accuracy of all algorithms\n",
    "cv_df_2.groupby('model_name').accuracy.mean()"
   ]
  },
  {
   "cell_type": "code",
   "execution_count": 34,
   "metadata": {},
   "outputs": [
    {
     "data": {
      "image/png": "[encoded data removed]",
      "text/plain": [
       "<Figure size 576x432 with 2 Axes>"
      ]
     },
     "metadata": {
      "needs_background": "light"
     },
     "output_type": "display_data"
    }
   ],
   "source": [
    "model = RandomForestClassifier(random_state=0)\n",
    "\n",
    "X_train, X_test, y_train, y_test, indices_train, indices_test = train_test_split(features_title_commit_comment, labels_title_commit_comment, df.index, test_size=0.25, random_state=0)\n",
    "model.fit(X_train, y_train)\n",
    "y_pred = model.predict(X_test)\n",
    "\n",
    "conf_mat = confusion_matrix(y_test, y_pred)\n",
    "fig, ax = plt.subplots(figsize=(8,6))\n",
    "sns.heatmap(conf_mat, annot=True, fmt='d',\n",
    "            xticklabels=category_id_df.final_tag.values, yticklabels=category_id_df.final_tag.values)\n",
    "plt.ylabel('Actual')\n",
    "plt.title('Random Forest- commit_message, title, first_comment')\n",
    "plt.xlabel('Predicted')\n",
    "plt.show()"
   ]
  },
  {
   "cell_type": "markdown",
   "metadata": {},
   "source": [
    "# First 245 rows using all (75%)"
   ]
  },
  {
   "cell_type": "code",
   "execution_count": 35,
   "metadata": {
    "scrolled": false
   },
   "outputs": [
    {
     "data": {
      "text/html": [
       "<div>\n",
       "<style scoped>\n",
       "    .dataframe tbody tr th:only-of-type {\n",
       "        vertical-align: middle;\n",
       "    }\n",
       "\n",
       "    .dataframe tbody tr th {\n",
       "        vertical-align: top;\n",
       "    }\n",
       "\n",
       "    .dataframe thead th {\n",
       "        text-align: right;\n",
       "    }\n",
       "</style>\n",
       "<table border=\"1\" class=\"dataframe\">\n",
       "  <thead>\n",
       "    <tr style=\"text-align: right;\">\n",
       "      <th></th>\n",
       "      <th>first_commit_message</th>\n",
       "      <th>title</th>\n",
       "      <th>first_comment</th>\n",
       "      <th>files_changed</th>\n",
       "      <th>file_extension</th>\n",
       "      <th>labels</th>\n",
       "      <th>lines_added</th>\n",
       "      <th>lines_removed</th>\n",
       "      <th>everything</th>\n",
       "      <th>all_excluding_first_commit</th>\n",
       "      <th>all_excluding_title</th>\n",
       "      <th>all_excluding_first_comment</th>\n",
       "      <th>all_excluding_labels</th>\n",
       "      <th>all_without_file_extensions</th>\n",
       "      <th>all_string_data</th>\n",
       "      <th>title_commit_comment</th>\n",
       "      <th>final_tag</th>\n",
       "    </tr>\n",
       "  </thead>\n",
       "  <tbody>\n",
       "    <tr>\n",
       "      <th>241</th>\n",
       "      <td>Fix detection of main executable on android</td>\n",
       "      <td>Fix detection of main executable on android</td>\n",
       "      <td>NaN</td>\n",
       "      <td>1</td>\n",
       "      <td>cpp</td>\n",
       "      <td>CLASigned</td>\n",
       "      <td>2</td>\n",
       "      <td>7</td>\n",
       "      <td>Fix detection of main executable on android Fi...</td>\n",
       "      <td>Fix detection of main executable on android  1...</td>\n",
       "      <td>Fix detection of main executable on android  1...</td>\n",
       "      <td>Fix detection of main executable on android Fi...</td>\n",
       "      <td>Fix detection of main executable on android Fi...</td>\n",
       "      <td>Fix detection of main executable on android Fi...</td>\n",
       "      <td>Fix detection of main executable on android Fi...</td>\n",
       "      <td>Fix detection of main executable on android Fi...</td>\n",
       "      <td>bug</td>\n",
       "    </tr>\n",
       "    <tr>\n",
       "      <th>242</th>\n",
       "      <td>Adding a print to indicate which PTX version w...</td>\n",
       "      <td>Changes to allow correct occupancy with newer ...</td>\n",
       "      <td>I added a new environment variable: PTXAS_CUDA...</td>\n",
       "      <td>13</td>\n",
       "      <td>cc config diff h yml</td>\n",
       "      <td>NaN</td>\n",
       "      <td>381</td>\n",
       "      <td>107</td>\n",
       "      <td>Adding a print to indicate which PTX version w...</td>\n",
       "      <td>Changes to allow correct occupancy with newer ...</td>\n",
       "      <td>Adding a print to indicate which PTX version w...</td>\n",
       "      <td>Adding a print to indicate which PTX version w...</td>\n",
       "      <td>Adding a print to indicate which PTX version w...</td>\n",
       "      <td>Adding a print to indicate which PTX version w...</td>\n",
       "      <td>Adding a print to indicate which PTX version w...</td>\n",
       "      <td>Adding a print to indicate which PTX version w...</td>\n",
       "      <td>feature</td>\n",
       "    </tr>\n",
       "    <tr>\n",
       "      <th>243</th>\n",
       "      <td>Booksim2 abandoned svn and moved to github</td>\n",
       "      <td>Booksim2 abandoned svn and moved to github (ht...</td>\n",
       "      <td>Response to issue #5 Booksim2 abandoned svn an...</td>\n",
       "      <td>127</td>\n",
       "      <td>db svn-base</td>\n",
       "      <td>NaN</td>\n",
       "      <td>1</td>\n",
       "      <td>26051</td>\n",
       "      <td>Booksim2 abandoned svn and moved to github Boo...</td>\n",
       "      <td>Booksim2 abandoned svn and moved to github (ht...</td>\n",
       "      <td>Booksim2 abandoned svn and moved to github Res...</td>\n",
       "      <td>Booksim2 abandoned svn and moved to github Boo...</td>\n",
       "      <td>Booksim2 abandoned svn and moved to github Boo...</td>\n",
       "      <td>Booksim2 abandoned svn and moved to github Boo...</td>\n",
       "      <td>Booksim2 abandoned svn and moved to github Boo...</td>\n",
       "      <td>Booksim2 abandoned svn and moved to github Boo...</td>\n",
       "      <td>repository operation</td>\n",
       "    </tr>\n",
       "    <tr>\n",
       "      <th>244</th>\n",
       "      <td>Merge pull request #1 from cloudozer/master</td>\n",
       "      <td>Merge pull request #1 from cloudozer/master</td>\n",
       "      <td>update</td>\n",
       "      <td>0</td>\n",
       "      <td>NaN</td>\n",
       "      <td>NaN</td>\n",
       "      <td>0</td>\n",
       "      <td>0</td>\n",
       "      <td>Merge pull request #1 from cloudozer/master  M...</td>\n",
       "      <td>Merge pull request #1 from cloudozer/master up...</td>\n",
       "      <td>Merge pull request #1 from cloudozer/master  u...</td>\n",
       "      <td>Merge pull request #1 from cloudozer/master  M...</td>\n",
       "      <td>Merge pull request #1 from cloudozer/master  M...</td>\n",
       "      <td>Merge pull request #1 from cloudozer/master  M...</td>\n",
       "      <td>Merge pull request #1 from cloudozer/master  M...</td>\n",
       "      <td>Merge pull request #1 from cloudozer/master  M...</td>\n",
       "      <td>repository operation</td>\n",
       "    </tr>\n",
       "    <tr>\n",
       "      <th>245</th>\n",
       "      <td>Merge pull request #1 from iluwatar/master</td>\n",
       "      <td>update from origin</td>\n",
       "      <td>NaN</td>\n",
       "      <td>0</td>\n",
       "      <td>NaN</td>\n",
       "      <td>status:underreview resolution:wontfix</td>\n",
       "      <td>0</td>\n",
       "      <td>0</td>\n",
       "      <td>Merge pull request #1 from iluwatar/master  up...</td>\n",
       "      <td>update from origin  0  status:underreview reso...</td>\n",
       "      <td>Merge pull request #1 from iluwatar/master   0...</td>\n",
       "      <td>Merge pull request #1 from iluwatar/master  up...</td>\n",
       "      <td>Merge pull request #1 from iluwatar/master  up...</td>\n",
       "      <td>Merge pull request #1 from iluwatar/master  up...</td>\n",
       "      <td>Merge pull request #1 from iluwatar/master  up...</td>\n",
       "      <td>Merge pull request #1 from iluwatar/master  up...</td>\n",
       "      <td>repository operation</td>\n",
       "    </tr>\n",
       "  </tbody>\n",
       "</table>\n",
       "</div>"
      ],
      "text/plain": [
       "                                  first_commit_message  \\\n",
       "241        Fix detection of main executable on android   \n",
       "242  Adding a print to indicate which PTX version w...   \n",
       "243         Booksim2 abandoned svn and moved to github   \n",
       "244       Merge pull request #1 from cloudozer/master    \n",
       "245        Merge pull request #1 from iluwatar/master    \n",
       "\n",
       "                                                 title  \\\n",
       "241        Fix detection of main executable on android   \n",
       "242  Changes to allow correct occupancy with newer ...   \n",
       "243  Booksim2 abandoned svn and moved to github (ht...   \n",
       "244        Merge pull request #1 from cloudozer/master   \n",
       "245                                 update from origin   \n",
       "\n",
       "                                         first_comment  files_changed  \\\n",
       "241                                                NaN              1   \n",
       "242  I added a new environment variable: PTXAS_CUDA...             13   \n",
       "243  Response to issue #5 Booksim2 abandoned svn an...            127   \n",
       "244                                             update              0   \n",
       "245                                                NaN              0   \n",
       "\n",
       "           file_extension                                 labels  lines_added  \\\n",
       "241                   cpp                              CLASigned            2   \n",
       "242  cc config diff h yml                                    NaN          381   \n",
       "243           db svn-base                                    NaN            1   \n",
       "244                   NaN                                    NaN            0   \n",
       "245                   NaN  status:underreview resolution:wontfix            0   \n",
       "\n",
       "     lines_removed                                         everything  \\\n",
       "241              7  Fix detection of main executable on android Fi...   \n",
       "242            107  Adding a print to indicate which PTX version w...   \n",
       "243          26051  Booksim2 abandoned svn and moved to github Boo...   \n",
       "244              0  Merge pull request #1 from cloudozer/master  M...   \n",
       "245              0  Merge pull request #1 from iluwatar/master  up...   \n",
       "\n",
       "                            all_excluding_first_commit  \\\n",
       "241  Fix detection of main executable on android  1...   \n",
       "242  Changes to allow correct occupancy with newer ...   \n",
       "243  Booksim2 abandoned svn and moved to github (ht...   \n",
       "244  Merge pull request #1 from cloudozer/master up...   \n",
       "245  update from origin  0  status:underreview reso...   \n",
       "\n",
       "                                   all_excluding_title  \\\n",
       "241  Fix detection of main executable on android  1...   \n",
       "242  Adding a print to indicate which PTX version w...   \n",
       "243  Booksim2 abandoned svn and moved to github Res...   \n",
       "244  Merge pull request #1 from cloudozer/master  u...   \n",
       "245  Merge pull request #1 from iluwatar/master   0...   \n",
       "\n",
       "                           all_excluding_first_comment  \\\n",
       "241  Fix detection of main executable on android Fi...   \n",
       "242  Adding a print to indicate which PTX version w...   \n",
       "243  Booksim2 abandoned svn and moved to github Boo...   \n",
       "244  Merge pull request #1 from cloudozer/master  M...   \n",
       "245  Merge pull request #1 from iluwatar/master  up...   \n",
       "\n",
       "                                  all_excluding_labels  \\\n",
       "241  Fix detection of main executable on android Fi...   \n",
       "242  Adding a print to indicate which PTX version w...   \n",
       "243  Booksim2 abandoned svn and moved to github Boo...   \n",
       "244  Merge pull request #1 from cloudozer/master  M...   \n",
       "245  Merge pull request #1 from iluwatar/master  up...   \n",
       "\n",
       "                           all_without_file_extensions  \\\n",
       "241  Fix detection of main executable on android Fi...   \n",
       "242  Adding a print to indicate which PTX version w...   \n",
       "243  Booksim2 abandoned svn and moved to github Boo...   \n",
       "244  Merge pull request #1 from cloudozer/master  M...   \n",
       "245  Merge pull request #1 from iluwatar/master  up...   \n",
       "\n",
       "                                       all_string_data  \\\n",
       "241  Fix detection of main executable on android Fi...   \n",
       "242  Adding a print to indicate which PTX version w...   \n",
       "243  Booksim2 abandoned svn and moved to github Boo...   \n",
       "244  Merge pull request #1 from cloudozer/master  M...   \n",
       "245  Merge pull request #1 from iluwatar/master  up...   \n",
       "\n",
       "                                  title_commit_comment             final_tag  \n",
       "241  Fix detection of main executable on android Fi...                   bug  \n",
       "242  Adding a print to indicate which PTX version w...               feature  \n",
       "243  Booksim2 abandoned svn and moved to github Boo...  repository operation  \n",
       "244  Merge pull request #1 from cloudozer/master  M...  repository operation  \n",
       "245  Merge pull request #1 from iluwatar/master  up...  repository operation  "
      ]
     },
     "execution_count": 35,
     "metadata": {},
     "output_type": "execute_result"
    }
   ],
   "source": [
    "df=pd.read_csv(\"Classification dataset.csv\", encoding= 'unicode_escape', nrows=246)\n",
    "df.tail()"
   ]
  },
  {
   "cell_type": "code",
   "execution_count": 36,
   "metadata": {},
   "outputs": [],
   "source": [
    "df.fillna('', inplace=True)"
   ]
  },
  {
   "cell_type": "code",
   "execution_count": 37,
   "metadata": {},
   "outputs": [],
   "source": [
    "df['category_id'] = df['final_tag'].factorize()[0]\n",
    "category_id_df = df[['final_tag', 'category_id']].drop_duplicates().sort_values('category_id')\n",
    "category_to_id = dict(category_id_df.values)\n",
    "id_to_category = dict(category_id_df[['category_id', 'final_tag']].values)"
   ]
  },
  {
   "cell_type": "code",
   "execution_count": 38,
   "metadata": {},
   "outputs": [
    {
     "data": {
      "text/plain": [
       "(246, 140)"
      ]
     },
     "execution_count": 38,
     "metadata": {},
     "output_type": "execute_result"
    }
   ],
   "source": [
    "features_first_75_percent_all = tfidf.fit_transform(df.everything).toarray()\n",
    "labels_first_75_all = df.category_id\n",
    "features_first_75_percent_all.shape"
   ]
  },
  {
   "cell_type": "code",
   "execution_count": 39,
   "metadata": {},
   "outputs": [
    {
     "name": "stderr",
     "output_type": "stream",
     "text": [
      "C:\\Users\\Rishi\\anaconda3\\lib\\site-packages\\sklearn\\model_selection\\_split.py:670: UserWarning: The least populated class in y has only 2 members, which is less than n_splits=5.\n",
      "  warnings.warn((\"The least populated class in y has only %d\"\n",
      "C:\\Users\\Rishi\\anaconda3\\lib\\site-packages\\sklearn\\model_selection\\_split.py:670: UserWarning: The least populated class in y has only 2 members, which is less than n_splits=5.\n",
      "  warnings.warn((\"The least populated class in y has only %d\"\n",
      "C:\\Users\\Rishi\\anaconda3\\lib\\site-packages\\sklearn\\model_selection\\_split.py:670: UserWarning: The least populated class in y has only 2 members, which is less than n_splits=5.\n",
      "  warnings.warn((\"The least populated class in y has only %d\"\n",
      "C:\\Users\\Rishi\\anaconda3\\lib\\site-packages\\sklearn\\model_selection\\_split.py:670: UserWarning: The least populated class in y has only 2 members, which is less than n_splits=5.\n",
      "  warnings.warn((\"The least populated class in y has only %d\"\n"
     ]
    },
    {
     "data": {
      "text/plain": [
       "model_name\n",
       "LinearSVC                 0.544980\n",
       "LogisticRegression        0.540980\n",
       "MultinomialNB             0.508653\n",
       "RandomForestClassifier    0.585633\n",
       "Name: accuracy, dtype: float64"
      ]
     },
     "execution_count": 39,
     "metadata": {},
     "output_type": "execute_result"
    }
   ],
   "source": [
    "X_train, X_test, y_train, y_test = train_test_split(df['everything'], df['final_tag'], random_state = 0)\n",
    "\n",
    "models = [\n",
    "    RandomForestClassifier(random_state=0),\n",
    "    LinearSVC(),\n",
    "    MultinomialNB(),\n",
    "    LogisticRegression(random_state=0),\n",
    "]\n",
    "CV = 5\n",
    "cv_df_2 = pd.DataFrame(index=range(CV * len(models)))\n",
    "entries = []\n",
    "for model in models:\n",
    "  model_name = model.__class__.__name__\n",
    "  accuracies = cross_val_score(model, features_first_75_percent_all, labels_first_75_all, scoring='accuracy', cv=CV)\n",
    "  for fold_idx, accuracy in enumerate(accuracies):\n",
    "    entries.append((model_name, fold_idx, accuracy))\n",
    "cv_df_2 = pd.DataFrame(entries, columns=['model_name', 'fold_idx', 'accuracy'])\n",
    "\n",
    "# Accuracy of all algorithms\n",
    "cv_df_2.groupby('model_name').accuracy.mean()"
   ]
  },
  {
   "cell_type": "code",
   "execution_count": 40,
   "metadata": {},
   "outputs": [
    {
     "data": {
      "image/png": "[encoded data removed]",
      "text/plain": [
       "<Figure size 576x432 with 2 Axes>"
      ]
     },
     "metadata": {
      "needs_background": "light"
     },
     "output_type": "display_data"
    }
   ],
   "source": [
    "model = RandomForestClassifier(random_state=0)\n",
    "\n",
    "X_train, X_test, y_train, y_test, indices_train, indices_test = train_test_split(features_first_75_percent_all, labels_first_75_all, df.index, test_size=0.25, random_state=0)\n",
    "model.fit(X_train, y_train)\n",
    "y_pred = model.predict(X_test)\n",
    "\n",
    "conf_mat = confusion_matrix(y_test, y_pred)\n",
    "fig, ax = plt.subplots(figsize=(8,6))\n",
    "sns.heatmap(conf_mat, annot=True, fmt='d',\n",
    "            xticklabels=category_id_df.final_tag.values, yticklabels=category_id_df.final_tag.values)\n",
    "plt.ylabel('Actual')\n",
    "plt.title('Random Forest- First 75% of data')\n",
    "plt.xlabel('Predicted')\n",
    "plt.show()"
   ]
  },
  {
   "cell_type": "markdown",
   "metadata": {},
   "source": [
    " # First 163 rows using all (50%)"
   ]
  },
  {
   "cell_type": "code",
   "execution_count": 41,
   "metadata": {
    "scrolled": false
   },
   "outputs": [
    {
     "data": {
      "text/html": [
       "<div>\n",
       "<style scoped>\n",
       "    .dataframe tbody tr th:only-of-type {\n",
       "        vertical-align: middle;\n",
       "    }\n",
       "\n",
       "    .dataframe tbody tr th {\n",
       "        vertical-align: top;\n",
       "    }\n",
       "\n",
       "    .dataframe thead th {\n",
       "        text-align: right;\n",
       "    }\n",
       "</style>\n",
       "<table border=\"1\" class=\"dataframe\">\n",
       "  <thead>\n",
       "    <tr style=\"text-align: right;\">\n",
       "      <th></th>\n",
       "      <th>first_commit_message</th>\n",
       "      <th>title</th>\n",
       "      <th>first_comment</th>\n",
       "      <th>files_changed</th>\n",
       "      <th>file_extension</th>\n",
       "      <th>labels</th>\n",
       "      <th>lines_added</th>\n",
       "      <th>lines_removed</th>\n",
       "      <th>everything</th>\n",
       "      <th>all_excluding_first_commit</th>\n",
       "      <th>all_excluding_title</th>\n",
       "      <th>all_excluding_first_comment</th>\n",
       "      <th>all_excluding_labels</th>\n",
       "      <th>all_without_file_extensions</th>\n",
       "      <th>all_string_data</th>\n",
       "      <th>title_commit_comment</th>\n",
       "      <th>final_tag</th>\n",
       "    </tr>\n",
       "  </thead>\n",
       "  <tbody>\n",
       "    <tr>\n",
       "      <th>159</th>\n",
       "      <td>+ debian/</td>\n",
       "      <td>Debian package metadata</td>\n",
       "      <td>As side-effect - modified Makefiles: common ta...</td>\n",
       "      <td>17</td>\n",
       "      <td>bsd d default install linux osx patch makefile</td>\n",
       "      <td>NaN</td>\n",
       "      <td>252</td>\n",
       "      <td>66</td>\n",
       "      <td>+ debian/ Debian package metadata As side-effe...</td>\n",
       "      <td>Debian package metadata As side-effect - modif...</td>\n",
       "      <td>+ debian/ As side-effect - modified Makefiles:...</td>\n",
       "      <td>+ debian/ Debian package metadata 17 bsd d def...</td>\n",
       "      <td>+ debian/ Debian package metadata As side-effe...</td>\n",
       "      <td>+ debian/ Debian package metadata As side-effe...</td>\n",
       "      <td>+ debian/ Debian package metadata As side-effe...</td>\n",
       "      <td>+ debian/ Debian package metadata As side-effe...</td>\n",
       "      <td>feature</td>\n",
       "    </tr>\n",
       "    <tr>\n",
       "      <th>160</th>\n",
       "      <td>initial plugin</td>\n",
       "      <td>Openmanage</td>\n",
       "      <td>A plugin for checking the health of individual...</td>\n",
       "      <td>2</td>\n",
       "      <td>py md</td>\n",
       "      <td>NaN</td>\n",
       "      <td>170</td>\n",
       "      <td>0</td>\n",
       "      <td>initial plugin Openmanage A plugin for checkin...</td>\n",
       "      <td>Openmanage A plugin for checking the health of...</td>\n",
       "      <td>initial plugin A plugin for checking the healt...</td>\n",
       "      <td>initial plugin Openmanage 2 py md  170 0</td>\n",
       "      <td>initial plugin Openmanage A plugin for checkin...</td>\n",
       "      <td>initial plugin Openmanage A plugin for checkin...</td>\n",
       "      <td>initial plugin Openmanage A plugin for checkin...</td>\n",
       "      <td>initial plugin Openmanage A plugin for checkin...</td>\n",
       "      <td>feature</td>\n",
       "    </tr>\n",
       "    <tr>\n",
       "      <th>161</th>\n",
       "      <td>Simplify Travis configs and scripts.</td>\n",
       "      <td>[WIP] Simplify Travis configs and scripts.</td>\n",
       "      <td>NaN</td>\n",
       "      <td>4</td>\n",
       "      <td>yml sh py</td>\n",
       "      <td>CLASigned</td>\n",
       "      <td>147</td>\n",
       "      <td>186</td>\n",
       "      <td>Simplify Travis configs and scripts. [WIP] Sim...</td>\n",
       "      <td>[WIP] Simplify Travis configs and scripts.  4 ...</td>\n",
       "      <td>Simplify Travis configs and scripts.  4 yml sh...</td>\n",
       "      <td>Simplify Travis configs and scripts. [WIP] Sim...</td>\n",
       "      <td>Simplify Travis configs and scripts. [WIP] Sim...</td>\n",
       "      <td>Simplify Travis configs and scripts. [WIP] Sim...</td>\n",
       "      <td>Simplify Travis configs and scripts. [WIP] Sim...</td>\n",
       "      <td>Simplify Travis configs and scripts. [WIP] Sim...</td>\n",
       "      <td>configuration</td>\n",
       "    </tr>\n",
       "    <tr>\n",
       "      <th>162</th>\n",
       "      <td>Only disable RegisterVariables tests on gcc</td>\n",
       "      <td>Only disable RegisterVariables tests on gcc</td>\n",
       "      <td>NaN</td>\n",
       "      <td>1</td>\n",
       "      <td>patch</td>\n",
       "      <td>CLASigned</td>\n",
       "      <td>3</td>\n",
       "      <td>3</td>\n",
       "      <td>Only disable RegisterVariables tests on gcc On...</td>\n",
       "      <td>Only disable RegisterVariables tests on gcc  1...</td>\n",
       "      <td>Only disable RegisterVariables tests on gcc  1...</td>\n",
       "      <td>Only disable RegisterVariables tests on gcc On...</td>\n",
       "      <td>Only disable RegisterVariables tests on gcc On...</td>\n",
       "      <td>Only disable RegisterVariables tests on gcc On...</td>\n",
       "      <td>Only disable RegisterVariables tests on gcc On...</td>\n",
       "      <td>Only disable RegisterVariables tests on gcc On...</td>\n",
       "      <td>testing</td>\n",
       "    </tr>\n",
       "    <tr>\n",
       "      <th>163</th>\n",
       "      <td>webirc support</td>\n",
       "      <td>WebIRC support</td>\n",
       "      <td>NaN</td>\n",
       "      <td>4</td>\n",
       "      <td>cpp h</td>\n",
       "      <td>NaN</td>\n",
       "      <td>32</td>\n",
       "      <td>12</td>\n",
       "      <td>webirc support WebIRC support  4 cpp h  32 12</td>\n",
       "      <td>WebIRC support  4 cpp h  32 12</td>\n",
       "      <td>webirc support  4 cpp h  32 12</td>\n",
       "      <td>webirc support WebIRC support 4 cpp h  32 12</td>\n",
       "      <td>webirc support WebIRC support  4 cpp h 32 12</td>\n",
       "      <td>webirc support WebIRC support  4  32 12</td>\n",
       "      <td>webirc support WebIRC support  cpp h</td>\n",
       "      <td>webirc support WebIRC support</td>\n",
       "      <td>feature</td>\n",
       "    </tr>\n",
       "  </tbody>\n",
       "</table>\n",
       "</div>"
      ],
      "text/plain": [
       "                            first_commit_message  \\\n",
       "159                                    + debian/   \n",
       "160                               initial plugin   \n",
       "161         Simplify Travis configs and scripts.   \n",
       "162  Only disable RegisterVariables tests on gcc   \n",
       "163                               webirc support   \n",
       "\n",
       "                                           title  \\\n",
       "159                      Debian package metadata   \n",
       "160                                   Openmanage   \n",
       "161   [WIP] Simplify Travis configs and scripts.   \n",
       "162  Only disable RegisterVariables tests on gcc   \n",
       "163                               WebIRC support   \n",
       "\n",
       "                                         first_comment  files_changed  \\\n",
       "159  As side-effect - modified Makefiles: common ta...             17   \n",
       "160  A plugin for checking the health of individual...              2   \n",
       "161                                                NaN              4   \n",
       "162                                                NaN              1   \n",
       "163                                                NaN              4   \n",
       "\n",
       "                                     file_extension     labels  lines_added  \\\n",
       "159  bsd d default install linux osx patch makefile        NaN          252   \n",
       "160                                           py md        NaN          170   \n",
       "161                                       yml sh py  CLASigned          147   \n",
       "162                                           patch  CLASigned            3   \n",
       "163                                           cpp h        NaN           32   \n",
       "\n",
       "     lines_removed                                         everything  \\\n",
       "159             66  + debian/ Debian package metadata As side-effe...   \n",
       "160              0  initial plugin Openmanage A plugin for checkin...   \n",
       "161            186  Simplify Travis configs and scripts. [WIP] Sim...   \n",
       "162              3  Only disable RegisterVariables tests on gcc On...   \n",
       "163             12      webirc support WebIRC support  4 cpp h  32 12   \n",
       "\n",
       "                            all_excluding_first_commit  \\\n",
       "159  Debian package metadata As side-effect - modif...   \n",
       "160  Openmanage A plugin for checking the health of...   \n",
       "161  [WIP] Simplify Travis configs and scripts.  4 ...   \n",
       "162  Only disable RegisterVariables tests on gcc  1...   \n",
       "163                     WebIRC support  4 cpp h  32 12   \n",
       "\n",
       "                                   all_excluding_title  \\\n",
       "159  + debian/ As side-effect - modified Makefiles:...   \n",
       "160  initial plugin A plugin for checking the healt...   \n",
       "161  Simplify Travis configs and scripts.  4 yml sh...   \n",
       "162  Only disable RegisterVariables tests on gcc  1...   \n",
       "163                     webirc support  4 cpp h  32 12   \n",
       "\n",
       "                           all_excluding_first_comment  \\\n",
       "159  + debian/ Debian package metadata 17 bsd d def...   \n",
       "160           initial plugin Openmanage 2 py md  170 0   \n",
       "161  Simplify Travis configs and scripts. [WIP] Sim...   \n",
       "162  Only disable RegisterVariables tests on gcc On...   \n",
       "163       webirc support WebIRC support 4 cpp h  32 12   \n",
       "\n",
       "                                  all_excluding_labels  \\\n",
       "159  + debian/ Debian package metadata As side-effe...   \n",
       "160  initial plugin Openmanage A plugin for checkin...   \n",
       "161  Simplify Travis configs and scripts. [WIP] Sim...   \n",
       "162  Only disable RegisterVariables tests on gcc On...   \n",
       "163       webirc support WebIRC support  4 cpp h 32 12   \n",
       "\n",
       "                           all_without_file_extensions  \\\n",
       "159  + debian/ Debian package metadata As side-effe...   \n",
       "160  initial plugin Openmanage A plugin for checkin...   \n",
       "161  Simplify Travis configs and scripts. [WIP] Sim...   \n",
       "162  Only disable RegisterVariables tests on gcc On...   \n",
       "163            webirc support WebIRC support  4  32 12   \n",
       "\n",
       "                                       all_string_data  \\\n",
       "159  + debian/ Debian package metadata As side-effe...   \n",
       "160  initial plugin Openmanage A plugin for checkin...   \n",
       "161  Simplify Travis configs and scripts. [WIP] Sim...   \n",
       "162  Only disable RegisterVariables tests on gcc On...   \n",
       "163              webirc support WebIRC support  cpp h    \n",
       "\n",
       "                                  title_commit_comment      final_tag  \n",
       "159  + debian/ Debian package metadata As side-effe...        feature  \n",
       "160  initial plugin Openmanage A plugin for checkin...        feature  \n",
       "161  Simplify Travis configs and scripts. [WIP] Sim...  configuration  \n",
       "162  Only disable RegisterVariables tests on gcc On...        testing  \n",
       "163                     webirc support WebIRC support         feature  "
      ]
     },
     "execution_count": 41,
     "metadata": {},
     "output_type": "execute_result"
    }
   ],
   "source": [
    "df=pd.read_csv(\"Classification dataset.csv\", encoding= 'unicode_escape', nrows=164)\n",
    "df.tail()"
   ]
  },
  {
   "cell_type": "code",
   "execution_count": 42,
   "metadata": {},
   "outputs": [],
   "source": [
    "df.fillna('', inplace=True)"
   ]
  },
  {
   "cell_type": "code",
   "execution_count": 43,
   "metadata": {},
   "outputs": [],
   "source": [
    "df['category_id'] = df['final_tag'].factorize()[0]\n",
    "category_id_df = df[['final_tag', 'category_id']].drop_duplicates().sort_values('category_id')\n",
    "category_to_id = dict(category_id_df.values)\n",
    "id_to_category = dict(category_id_df[['category_id', 'final_tag']].values)"
   ]
  },
  {
   "cell_type": "code",
   "execution_count": 44,
   "metadata": {},
   "outputs": [
    {
     "data": {
      "text/plain": [
       "(164, 89)"
      ]
     },
     "execution_count": 44,
     "metadata": {},
     "output_type": "execute_result"
    }
   ],
   "source": [
    "features_first_half_all = tfidf.fit_transform(df.everything).toarray()\n",
    "labels_first_half_all = df.category_id\n",
    "features_first_half_all.shape"
   ]
  },
  {
   "cell_type": "code",
   "execution_count": 45,
   "metadata": {},
   "outputs": [
    {
     "name": "stderr",
     "output_type": "stream",
     "text": [
      "C:\\Users\\Rishi\\anaconda3\\lib\\site-packages\\sklearn\\model_selection\\_split.py:670: UserWarning: The least populated class in y has only 2 members, which is less than n_splits=5.\n",
      "  warnings.warn((\"The least populated class in y has only %d\"\n",
      "C:\\Users\\Rishi\\anaconda3\\lib\\site-packages\\sklearn\\model_selection\\_split.py:670: UserWarning: The least populated class in y has only 2 members, which is less than n_splits=5.\n",
      "  warnings.warn((\"The least populated class in y has only %d\"\n",
      "C:\\Users\\Rishi\\anaconda3\\lib\\site-packages\\sklearn\\model_selection\\_split.py:670: UserWarning: The least populated class in y has only 2 members, which is less than n_splits=5.\n",
      "  warnings.warn((\"The least populated class in y has only %d\"\n",
      "C:\\Users\\Rishi\\anaconda3\\lib\\site-packages\\sklearn\\model_selection\\_split.py:670: UserWarning: The least populated class in y has only 2 members, which is less than n_splits=5.\n",
      "  warnings.warn((\"The least populated class in y has only %d\"\n"
     ]
    },
    {
     "data": {
      "text/plain": [
       "model_name\n",
       "LinearSVC                 0.549432\n",
       "LogisticRegression        0.524621\n",
       "MultinomialNB             0.524621\n",
       "RandomForestClassifier    0.573674\n",
       "Name: accuracy, dtype: float64"
      ]
     },
     "execution_count": 45,
     "metadata": {},
     "output_type": "execute_result"
    }
   ],
   "source": [
    "X_train, X_test, y_train, y_test = train_test_split(df['everything'], df['final_tag'], random_state = 0)\n",
    "\n",
    "models = [\n",
    "    RandomForestClassifier(random_state=0),\n",
    "    LinearSVC(),\n",
    "    MultinomialNB(),\n",
    "    LogisticRegression(random_state=0),\n",
    "]\n",
    "CV = 5\n",
    "cv_df_2 = pd.DataFrame(index=range(CV * len(models)))\n",
    "entries = []\n",
    "for model in models:\n",
    "  model_name = model.__class__.__name__\n",
    "  accuracies = cross_val_score(model, features_first_half_all, labels_first_half_all, scoring='accuracy', cv=CV)\n",
    "  for fold_idx, accuracy in enumerate(accuracies):\n",
    "    entries.append((model_name, fold_idx, accuracy))\n",
    "cv_df_2 = pd.DataFrame(entries, columns=['model_name', 'fold_idx', 'accuracy'])\n",
    "\n",
    "# Accuracy of all algorithms\n",
    "cv_df_2.groupby('model_name').accuracy.mean()"
   ]
  },
  {
   "cell_type": "code",
   "execution_count": 46,
   "metadata": {},
   "outputs": [
    {
     "data": {
      "image/png": "[encoded data removed]",
      "text/plain": [
       "<Figure size 576x432 with 2 Axes>"
      ]
     },
     "metadata": {
      "needs_background": "light"
     },
     "output_type": "display_data"
    }
   ],
   "source": [
    "model = RandomForestClassifier(random_state=0)\n",
    "\n",
    "X_train, X_test, y_train, y_test, indices_train, indices_test = train_test_split(features_first_half_all, labels_first_half_all, df.index, test_size=0.25, random_state=0)\n",
    "model.fit(X_train, y_train)\n",
    "y_pred = model.predict(X_test)\n",
    "\n",
    "conf_mat = confusion_matrix(y_test, y_pred)\n",
    "fig, ax = plt.subplots(figsize=(8,6))\n",
    "sns.heatmap(conf_mat, annot=True, fmt='d',\n",
    "            xticklabels=category_id_df.final_tag.values, yticklabels=category_id_df.final_tag.values)\n",
    "plt.ylabel('Actual')\n",
    "plt.title('Random Forest- First 50% of datalabel')\n",
    "plt.xlabel('Predicted')\n",
    "plt.show()"
   ]
  },
  {
   "cell_type": "markdown",
   "metadata": {},
   "source": [
    " # First 82 rows using all (25%)"
   ]
  },
  {
   "cell_type": "code",
   "execution_count": 47,
   "metadata": {},
   "outputs": [
    {
     "data": {
      "text/html": [
       "<div>\n",
       "<style scoped>\n",
       "    .dataframe tbody tr th:only-of-type {\n",
       "        vertical-align: middle;\n",
       "    }\n",
       "\n",
       "    .dataframe tbody tr th {\n",
       "        vertical-align: top;\n",
       "    }\n",
       "\n",
       "    .dataframe thead th {\n",
       "        text-align: right;\n",
       "    }\n",
       "</style>\n",
       "<table border=\"1\" class=\"dataframe\">\n",
       "  <thead>\n",
       "    <tr style=\"text-align: right;\">\n",
       "      <th></th>\n",
       "      <th>first_commit_message</th>\n",
       "      <th>title</th>\n",
       "      <th>first_comment</th>\n",
       "      <th>files_changed</th>\n",
       "      <th>file_extension</th>\n",
       "      <th>labels</th>\n",
       "      <th>lines_added</th>\n",
       "      <th>lines_removed</th>\n",
       "      <th>everything</th>\n",
       "      <th>all_excluding_first_commit</th>\n",
       "      <th>all_excluding_title</th>\n",
       "      <th>all_excluding_first_comment</th>\n",
       "      <th>all_excluding_labels</th>\n",
       "      <th>all_without_file_extensions</th>\n",
       "      <th>all_string_data</th>\n",
       "      <th>title_commit_comment</th>\n",
       "      <th>final_tag</th>\n",
       "    </tr>\n",
       "  </thead>\n",
       "  <tbody>\n",
       "    <tr>\n",
       "      <th>78</th>\n",
       "      <td>kanboard needs the php dom extension</td>\n",
       "      <td>kanboard needs the php dom extension</td>\n",
       "      <td>Add the missing php-xml package to the install...</td>\n",
       "      <td>1</td>\n",
       "      <td>markdown</td>\n",
       "      <td>NaN</td>\n",
       "      <td>2</td>\n",
       "      <td>2</td>\n",
       "      <td>kanboard needs the php dom extension kanboard ...</td>\n",
       "      <td>kanboard needs the php dom extension Add the m...</td>\n",
       "      <td>kanboard needs the php dom extension Add the m...</td>\n",
       "      <td>kanboard needs the php dom extension kanboard ...</td>\n",
       "      <td>kanboard needs the php dom extension kanboard ...</td>\n",
       "      <td>kanboard needs the php dom extension kanboard ...</td>\n",
       "      <td>kanboard needs the php dom extension kanboard ...</td>\n",
       "      <td>kanboard needs the php dom extension kanboard ...</td>\n",
       "      <td>documentation</td>\n",
       "    </tr>\n",
       "    <tr>\n",
       "      <th>79</th>\n",
       "      <td>Fix any remaning aliasing rules with propper m...</td>\n",
       "      <td>Fix any remaining aliasing rules with propper ...</td>\n",
       "      <td>NaN</td>\n",
       "      <td>11</td>\n",
       "      <td>cpp h</td>\n",
       "      <td>NaN</td>\n",
       "      <td>140</td>\n",
       "      <td>94</td>\n",
       "      <td>Fix any remaning aliasing rules with propper m...</td>\n",
       "      <td>Fix any remaining aliasing rules with propper ...</td>\n",
       "      <td>Fix any remaning aliasing rules with propper m...</td>\n",
       "      <td>Fix any remaning aliasing rules with propper m...</td>\n",
       "      <td>Fix any remaning aliasing rules with propper m...</td>\n",
       "      <td>Fix any remaning aliasing rules with propper m...</td>\n",
       "      <td>Fix any remaning aliasing rules with propper m...</td>\n",
       "      <td>Fix any remaning aliasing rules with propper m...</td>\n",
       "      <td>bug</td>\n",
       "    </tr>\n",
       "    <tr>\n",
       "      <th>80</th>\n",
       "      <td>Merge pull request #1 from iluwatar/master</td>\n",
       "      <td>removed extra \"is\" from javadoc comments</td>\n",
       "      <td>NaN</td>\n",
       "      <td>1</td>\n",
       "      <td>java</td>\n",
       "      <td>NaN</td>\n",
       "      <td>1</td>\n",
       "      <td>1</td>\n",
       "      <td>Merge pull request #1 from iluwatar/master rem...</td>\n",
       "      <td>removed extra \"is\" from javadoc comments  1 ja...</td>\n",
       "      <td>Merge pull request #1 from iluwatar/master  1 ...</td>\n",
       "      <td>Merge pull request #1 from iluwatar/master rem...</td>\n",
       "      <td>Merge pull request #1 from iluwatar/master rem...</td>\n",
       "      <td>Merge pull request #1 from iluwatar/master rem...</td>\n",
       "      <td>Merge pull request #1 from iluwatar/master rem...</td>\n",
       "      <td>Merge pull request #1 from iluwatar/master rem...</td>\n",
       "      <td>documentation</td>\n",
       "    </tr>\n",
       "    <tr>\n",
       "      <th>81</th>\n",
       "      <td>Better capitalization in the readme.</td>\n",
       "      <td>Better capitalization in readme.</td>\n",
       "      <td>Also reworded some sentences and wrapped one o...</td>\n",
       "      <td>1</td>\n",
       "      <td>md</td>\n",
       "      <td>NaN</td>\n",
       "      <td>44</td>\n",
       "      <td>33</td>\n",
       "      <td>Better capitalization in the readme.  Better c...</td>\n",
       "      <td>Better capitalization in readme. Also reworded...</td>\n",
       "      <td>Better capitalization in the readme.  Also rew...</td>\n",
       "      <td>Better capitalization in the readme.  Better c...</td>\n",
       "      <td>Better capitalization in the readme.  Better c...</td>\n",
       "      <td>Better capitalization in the readme.  Better c...</td>\n",
       "      <td>Better capitalization in the readme.  Better c...</td>\n",
       "      <td>Better capitalization in the readme.  Better c...</td>\n",
       "      <td>documentation</td>\n",
       "    </tr>\n",
       "    <tr>\n",
       "      <th>82</th>\n",
       "      <td>Updated translation</td>\n",
       "      <td>Test</td>\n",
       "      <td>Before to submit your pull-request: Be sure th...</td>\n",
       "      <td>4</td>\n",
       "      <td>php markdown</td>\n",
       "      <td>NaN</td>\n",
       "      <td>54</td>\n",
       "      <td>51</td>\n",
       "      <td>Updated translation Test Before to submit your...</td>\n",
       "      <td>Test Before to submit your pull-request: Be su...</td>\n",
       "      <td>Updated translation Before to submit your pull...</td>\n",
       "      <td>Updated translation Test 4 php markdown  54 51</td>\n",
       "      <td>Updated translation Test Before to submit your...</td>\n",
       "      <td>Updated translation Test Before to submit your...</td>\n",
       "      <td>Updated translation Test Before to submit your...</td>\n",
       "      <td>Updated translation Test Before to submit your...</td>\n",
       "      <td>bulk</td>\n",
       "    </tr>\n",
       "  </tbody>\n",
       "</table>\n",
       "</div>"
      ],
      "text/plain": [
       "                                 first_commit_message  \\\n",
       "78               kanboard needs the php dom extension   \n",
       "79  Fix any remaning aliasing rules with propper m...   \n",
       "80         Merge pull request #1 from iluwatar/master   \n",
       "81              Better capitalization in the readme.    \n",
       "82                                Updated translation   \n",
       "\n",
       "                                                title  \\\n",
       "78               kanboard needs the php dom extension   \n",
       "79  Fix any remaining aliasing rules with propper ...   \n",
       "80           removed extra \"is\" from javadoc comments   \n",
       "81                   Better capitalization in readme.   \n",
       "82                                               Test   \n",
       "\n",
       "                                        first_comment  files_changed  \\\n",
       "78  Add the missing php-xml package to the install...              1   \n",
       "79                                                NaN             11   \n",
       "80                                                NaN              1   \n",
       "81  Also reworded some sentences and wrapped one o...              1   \n",
       "82  Before to submit your pull-request: Be sure th...              4   \n",
       "\n",
       "   file_extension labels  lines_added  lines_removed  \\\n",
       "78       markdown    NaN            2              2   \n",
       "79          cpp h    NaN          140             94   \n",
       "80           java    NaN            1              1   \n",
       "81             md    NaN           44             33   \n",
       "82   php markdown    NaN           54             51   \n",
       "\n",
       "                                           everything  \\\n",
       "78  kanboard needs the php dom extension kanboard ...   \n",
       "79  Fix any remaning aliasing rules with propper m...   \n",
       "80  Merge pull request #1 from iluwatar/master rem...   \n",
       "81  Better capitalization in the readme.  Better c...   \n",
       "82  Updated translation Test Before to submit your...   \n",
       "\n",
       "                           all_excluding_first_commit  \\\n",
       "78  kanboard needs the php dom extension Add the m...   \n",
       "79  Fix any remaining aliasing rules with propper ...   \n",
       "80  removed extra \"is\" from javadoc comments  1 ja...   \n",
       "81  Better capitalization in readme. Also reworded...   \n",
       "82  Test Before to submit your pull-request: Be su...   \n",
       "\n",
       "                                  all_excluding_title  \\\n",
       "78  kanboard needs the php dom extension Add the m...   \n",
       "79  Fix any remaning aliasing rules with propper m...   \n",
       "80  Merge pull request #1 from iluwatar/master  1 ...   \n",
       "81  Better capitalization in the readme.  Also rew...   \n",
       "82  Updated translation Before to submit your pull...   \n",
       "\n",
       "                          all_excluding_first_comment  \\\n",
       "78  kanboard needs the php dom extension kanboard ...   \n",
       "79  Fix any remaning aliasing rules with propper m...   \n",
       "80  Merge pull request #1 from iluwatar/master rem...   \n",
       "81  Better capitalization in the readme.  Better c...   \n",
       "82     Updated translation Test 4 php markdown  54 51   \n",
       "\n",
       "                                 all_excluding_labels  \\\n",
       "78  kanboard needs the php dom extension kanboard ...   \n",
       "79  Fix any remaning aliasing rules with propper m...   \n",
       "80  Merge pull request #1 from iluwatar/master rem...   \n",
       "81  Better capitalization in the readme.  Better c...   \n",
       "82  Updated translation Test Before to submit your...   \n",
       "\n",
       "                          all_without_file_extensions  \\\n",
       "78  kanboard needs the php dom extension kanboard ...   \n",
       "79  Fix any remaning aliasing rules with propper m...   \n",
       "80  Merge pull request #1 from iluwatar/master rem...   \n",
       "81  Better capitalization in the readme.  Better c...   \n",
       "82  Updated translation Test Before to submit your...   \n",
       "\n",
       "                                      all_string_data  \\\n",
       "78  kanboard needs the php dom extension kanboard ...   \n",
       "79  Fix any remaning aliasing rules with propper m...   \n",
       "80  Merge pull request #1 from iluwatar/master rem...   \n",
       "81  Better capitalization in the readme.  Better c...   \n",
       "82  Updated translation Test Before to submit your...   \n",
       "\n",
       "                                 title_commit_comment      final_tag  \n",
       "78  kanboard needs the php dom extension kanboard ...  documentation  \n",
       "79  Fix any remaning aliasing rules with propper m...            bug  \n",
       "80  Merge pull request #1 from iluwatar/master rem...  documentation  \n",
       "81  Better capitalization in the readme.  Better c...  documentation  \n",
       "82  Updated translation Test Before to submit your...           bulk  "
      ]
     },
     "execution_count": 47,
     "metadata": {},
     "output_type": "execute_result"
    }
   ],
   "source": [
    "df=pd.read_csv(\"Classification dataset.csv\", encoding= 'unicode_escape', nrows=83)\n",
    "df.tail()"
   ]
  },
  {
   "cell_type": "code",
   "execution_count": 48,
   "metadata": {},
   "outputs": [],
   "source": [
    "df.fillna('', inplace=True)"
   ]
  },
  {
   "cell_type": "code",
   "execution_count": 49,
   "metadata": {},
   "outputs": [],
   "source": [
    "df['category_id'] = df['final_tag'].factorize()[0]\n",
    "category_id_df = df[['final_tag', 'category_id']].drop_duplicates().sort_values('category_id')\n",
    "category_to_id = dict(category_id_df.values)\n",
    "id_to_category = dict(category_id_df[['category_id', 'final_tag']].values)"
   ]
  },
  {
   "cell_type": "code",
   "execution_count": 50,
   "metadata": {},
   "outputs": [
    {
     "data": {
      "text/plain": [
       "(83, 25)"
      ]
     },
     "execution_count": 50,
     "metadata": {},
     "output_type": "execute_result"
    }
   ],
   "source": [
    "features_first_25_percent_all = tfidf.fit_transform(df.everything).toarray()\n",
    "labels_first_25_percent_all = df.category_id\n",
    "features_first_25_percent_all.shape"
   ]
  },
  {
   "cell_type": "code",
   "execution_count": 51,
   "metadata": {},
   "outputs": [
    {
     "name": "stderr",
     "output_type": "stream",
     "text": [
      "C:\\Users\\Rishi\\anaconda3\\lib\\site-packages\\sklearn\\model_selection\\_split.py:670: UserWarning: The least populated class in y has only 1 members, which is less than n_splits=5.\n",
      "  warnings.warn((\"The least populated class in y has only %d\"\n",
      "C:\\Users\\Rishi\\anaconda3\\lib\\site-packages\\sklearn\\model_selection\\_split.py:670: UserWarning: The least populated class in y has only 1 members, which is less than n_splits=5.\n",
      "  warnings.warn((\"The least populated class in y has only %d\"\n",
      "C:\\Users\\Rishi\\anaconda3\\lib\\site-packages\\sklearn\\model_selection\\_split.py:670: UserWarning: The least populated class in y has only 1 members, which is less than n_splits=5.\n",
      "  warnings.warn((\"The least populated class in y has only %d\"\n",
      "C:\\Users\\Rishi\\anaconda3\\lib\\site-packages\\sklearn\\model_selection\\_split.py:670: UserWarning: The least populated class in y has only 1 members, which is less than n_splits=5.\n",
      "  warnings.warn((\"The least populated class in y has only %d\"\n"
     ]
    },
    {
     "data": {
      "text/plain": [
       "model_name\n",
       "LinearSVC                 0.470588\n",
       "LogisticRegression        0.544118\n",
       "MultinomialNB             0.543382\n",
       "RandomForestClassifier    0.517647\n",
       "Name: accuracy, dtype: float64"
      ]
     },
     "execution_count": 51,
     "metadata": {},
     "output_type": "execute_result"
    }
   ],
   "source": [
    "X_train, X_test, y_train, y_test = train_test_split(df['everything'], df['final_tag'], random_state = 0)\n",
    "\n",
    "models = [\n",
    "    RandomForestClassifier(random_state=0),\n",
    "    LinearSVC(),\n",
    "    MultinomialNB(),\n",
    "    LogisticRegression(random_state=0),\n",
    "]\n",
    "CV = 5\n",
    "cv_df_2 = pd.DataFrame(index=range(CV * len(models)))\n",
    "entries = []\n",
    "for model in models:\n",
    "  model_name = model.__class__.__name__\n",
    "  accuracies = cross_val_score(model, features_first_25_percent_all, labels_first_25_percent_all, scoring='accuracy', cv=CV)\n",
    "  for fold_idx, accuracy in enumerate(accuracies):\n",
    "    entries.append((model_name, fold_idx, accuracy))\n",
    "cv_df_2 = pd.DataFrame(entries, columns=['model_name', 'fold_idx', 'accuracy'])\n",
    "\n",
    "# Accuracy of all algorithms\n",
    "cv_df_2.groupby('model_name').accuracy.mean()"
   ]
  },
  {
   "cell_type": "code",
   "execution_count": 52,
   "metadata": {},
   "outputs": [
    {
     "data": {
      "image/png": "[encoded data removed]",
      "text/plain": [
       "<Figure size 576x432 with 2 Axes>"
      ]
     },
     "metadata": {
      "needs_background": "light"
     },
     "output_type": "display_data"
    }
   ],
   "source": [
    "model = RandomForestClassifier(random_state=0)\n",
    "\n",
    "X_train, X_test, y_train, y_test, indices_train, indices_test = train_test_split(features_first_25_percent_all, labels_first_25_percent_all, df.index, test_size=0.25, random_state=0)\n",
    "model.fit(X_train, y_train)\n",
    "y_pred = model.predict(X_test)\n",
    "\n",
    "conf_mat = confusion_matrix(y_test, y_pred)\n",
    "fig, ax = plt.subplots(figsize=(8,6))\n",
    "sns.heatmap(conf_mat, annot=True, fmt='d',\n",
    "            xticklabels=category_id_df.final_tag.values, yticklabels=category_id_df.final_tag.values)\n",
    "plt.ylabel('Actual')\n",
    "plt.title('Random Forest- First 200 rows for all')\n",
    "plt.xlabel('Predicted')\n",
    "plt.show()"
   ]
  }
 ],
 "metadata": {
  "kernelspec": {
   "display_name": "Python 3",
   "language": "python",
   "name": "python3"
  },
  "language_info": {
   "codemirror_mode": {
    "name": "ipython",
    "version": 3
   },
   "file_extension": ".py",
   "mimetype": "text/x-python",
   "name": "python",
   "nbconvert_exporter": "python",
   "pygments_lexer": "ipython3",
   "version": "3.8.3"
  }
 },
 "nbformat": 4,
 "nbformat_minor": 4
}
